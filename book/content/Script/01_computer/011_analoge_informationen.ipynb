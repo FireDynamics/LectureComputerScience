{
 "cells": [
  {
   "cell_type": "markdown",
   "metadata": {
    "tags": []
   },
   "source": [
    "# Analoge Informationen"
   ]
  },
  {
   "cell_type": "markdown",
   "metadata": {},
   "source": [
    "In der Natur sind – auf makroskopischer Skala – alle Informationen kontinuierlich. Das bedeutet, dass alle Werte, z.B. bei einer Messung, aus einem gegebenen Wertebereich angenommen werden können. Das sagt allerdings erstmal nichts über die Präzision und Genauigkeit aus."
   ]
  },
  {
   "cell_type": "markdown",
   "metadata": {},
   "source": [
    "## Beispiele für analoge Messungen"
   ]
  },
  {
   "cell_type": "markdown",
   "metadata": {},
   "source": [
    "Folgende zwei Beispiele, Temperatur- und Gewichtsmessung, verdeutlichen die kontinuierliche Werteskala."
   ]
  },
  {
   "cell_type": "markdown",
   "metadata": {},
   "source": [
    "### Temperaturmessung\n",
    "\n",
    "Die Temperatur, z.B. der Luft, kann mit einem Thermometer gemessen werden. Bei einem [Flüssigkeitsthermometer](https://de.wikipedia.org/wiki/Fl%C3%BCssigkeitsthermometer) beruht das Messprinzip auf der Ausdehnung einer Flüssigkeit mit zunehmender Temperatur. Die Änderung des Volumens führt zu einer Änderung des Füllstands, welcher wiederum abgelesen und anhand einer Skala die Temperatur angibt, siehe folgende Abbildung. Die Volumenänderung kann grundsätzlich beliebig klein sein und stellt einen kontinuierlichen Messwert dar. Natülich kann in der Praxis die Temperatur nur im Rahmen der durch die Skala vorgegebenen Genauigkeit abgelesen werden.    "
   ]
  },
  {
   "cell_type": "markdown",
   "metadata": {},
   "source": [
    ":::{figure-md} fig-thermometer\n",
    "\n",
    "<img src=\"https://upload.wikimedia.org/wikipedia/commons/thumb/5/57/Mercury_Thermometer.jpg/277px-Mercury_Thermometer.jpg\" width=\"20%\">\n",
    "\n",
    "Bild: Quecksilberthermometer, Quelle: [Anonimski, Mercury Thermometer, CC BY-SA 3.0](https://commons.wikimedia.org/wiki/File:Mercury_Thermometer.jpg)\n",
    ":::"
   ]
  },
  {
   "cell_type": "markdown",
   "metadata": {},
   "source": [
    "<center>\n",
    "    <table align=\"center\">\n",
    "    <tr>\n",
    "        <td style=\"text-align:center\"><video controls width=\"40%\"> <source src=\"https://uni-wuppertal.sciebo.de/s/aPPAWLrOhqHtyy2/download\" type=\"video/mp4\"> </video></td>\n",
    "    </tr>\n",
    "    <tr>\n",
    "        <td>Temperaturmessung mit einem Quecksilberthermometer</td>\n",
    "    </tr>\n",
    "    </table>\n",
    "</center>"
   ]
  },
  {
   "cell_type": "markdown",
   "metadata": {},
   "source": [
    "### Gewichstmessung\n",
    "\n",
    "Um die Masse eines Gegenstandes zu messen, kann dessen Gewichtskraft mit einer [Waage](https://de.wikipedia.org/wiki/Waage) gemessen und daraus auf die Masse geschlossen werden. Die vom Körper ausgeübte Kraft kann z.B. mechanisch mit einer Feder gemessen werden. Die Ausdehnung der Feder ist kontinuierlich, so dass auch der Messwert beliebige Werte innerhalb des Messbereichs annehmen kann. Folgende Abbildung zeigt eine Briefwaage als Beispiel."
   ]
  },
  {
   "cell_type": "markdown",
   "metadata": {},
   "source": [
    ":::{figure-md} fig-waage\n",
    "\n",
    "<img src=\"https://upload.wikimedia.org/wikipedia/commons/thumb/f/f8/Letterbalancemk.jpg/450px-Letterbalancemk.jpg\" width=\"60%\">\n",
    "\n",
    "Bild: Briefwaage, Quelle: [ Mondmann, Letterbalancemk, CC BY-SA 3.0](https://commons.wikimedia.org/wiki/File:Letterbalancemk.jpg)\n",
    ":::"
   ]
  },
  {
   "cell_type": "markdown",
   "metadata": {},
   "source": [
    "## Analoges Signal\n",
    "\n",
    "### Kontinuität\n",
    "Betrachtet man ein analoges zeitabhängiges Signal, welches beispielsweise die Messgröße als elektrische Spannung abbildet, so ist folgender Verlauf möglich."
   ]
  },
  {
   "cell_type": "code",
   "execution_count": 1,
   "metadata": {
    "tags": [
     "remove_input"
    ]
   },
   "outputs": [],
   "source": [
    "import matplotlib as mpl\n",
    "mpl.rcParams['figure.dpi'] = 200\n",
    "mpl.rcParams['svg.hashsalt'] = 'seed'\n",
    "svg_metadata={'Date':None}\n",
    "\n",
    "import matplotlib.pyplot as plt\n",
    "\n",
    "import numpy as np\n",
    "import seaborn as sns\n",
    "# sns.set()\n",
    "#sns.set(style=\"whitegrid\")\n",
    "sns.set_style('white')\n",
    "sns.set_context(\"notebook\", font_scale=1.5, rc={\"lines.linewidth\": 2.5})\n",
    "\n",
    "t = np.linspace(0, 10, 100)\n",
    "f = (np.cos(t) + 1) * 5*np.exp(-t/10) + 0.25\n",
    "\n",
    "plt.plot(t, f, label='analog')\n",
    "plt.xlabel(\"Zeit\")\n",
    "plt.ylabel(\"Signal\")\n",
    "\n",
    "sns.despine()\n",
    "\n",
    "xmajor_ticks = np.arange(0, 12, 2)\n",
    "xminor_ticks = np.arange(0, 11, 1)\n",
    "ymajor_ticks = np.arange(0, 12, 2)\n",
    "yminor_ticks = np.arange(0, 11, 1)\n",
    "\n",
    "ax = plt.gca()\n",
    "\n",
    "ax.set_xticks(xmajor_ticks)\n",
    "ax.set_xticks(xminor_ticks, minor=True)\n",
    "ax.set_yticks(ymajor_ticks)\n",
    "ax.set_yticks(yminor_ticks, minor=True)\n",
    "\n",
    "plt.tight_layout()\n",
    "# plt.grid(which='both')\n",
    "# plt.legend()\n",
    "plt.savefig('./bilder/signal_analog.svg', metadata=svg_metadata)\n",
    "plt.close()"
   ]
  },
  {
   "cell_type": "markdown",
   "metadata": {},
   "source": [
    ":::{figure-md} fig-signal_analog\n",
    "\n",
    "<img src=\"./bilder/signal_analog.svg\" width=\"60%\">\n",
    "\n",
    "Analoges Signal\n",
    ":::"
   ]
  },
  {
   "cell_type": "markdown",
   "metadata": {},
   "source": [
    "Im obigen Bild besteht die Datenkurve theoretisch aus beliebig vielen Punkten, da grundsätzlich alle Werte in der Zeit und im Signal angenommen werden können. Sie ist kontinuierlich."
   ]
  },
  {
   "cell_type": "markdown",
   "metadata": {},
   "source": [
    "### Datenaufzeichnung\n",
    "\n",
    "Wird ein analoges Signal aufgezeichnet, erfolgt dies auch mit einem analogen Medium. Dies kann z.B. ein Papierausdruck oder (analoges) Photo sein. Die Vervielfältigung ist (mit analogen Werkzeugen) grundsätzlich schwierig und kann in der Regel nicht fehlerfrei erfolgen."
   ]
  },
  {
   "cell_type": "markdown",
   "metadata": {},
   "source": [
    "### Analoge Datenübertragung\n",
    "\n",
    "Analoge Signale können beispielsweise über Kabel (z.B. analoges Telefon oder Fernsehen) oder auch über elektromagnetische Wellen (z.B. Radio) übertragen werden. Dabei können Störungen im Übertragungsweg das Signal verfälschen, z.B. in Form von Rauschen. Eine Fehlerkorrektur bzw. Validierung der empfangenen Daten ist generell nicht möglich."
   ]
  }
 ],
 "metadata": {
  "kernelspec": {
   "display_name": "Python 3 (ipykernel)",
   "language": "python",
   "name": "python3"
  },
  "language_info": {
   "codemirror_mode": {
    "name": "ipython",
    "version": 3
   },
   "file_extension": ".py",
   "mimetype": "text/x-python",
   "name": "python",
   "nbconvert_exporter": "python",
   "pygments_lexer": "ipython3",
   "version": "3.10.10"
  }
 },
 "nbformat": 4,
 "nbformat_minor": 4
}
