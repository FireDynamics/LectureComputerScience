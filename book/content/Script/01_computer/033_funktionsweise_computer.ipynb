{
 "cells": [
  {
   "cell_type": "markdown",
   "metadata": {},
   "source": [
    "# Arbeitsweise eines Computers\n",
    "\n",
    "Die Arbeitsweise eines Computers (auf einem sehr grundlegendem Niveau) ist die folgende:\n",
    "\n",
    "- Instruktionen aus dem Speicher laden und interpretieren\n",
    "- Daten zur Ausführung der Instruktionen laden\n",
    "- Instruktion ausführen\n",
    "- Ergebnisse in den Speicher schreiben\n",
    "- Nächste Instruktion laden\n",
    "\n",
    "Es existiert im Speicher kein Unterschied zwischen Anweisungen und Daten! In dem nachfolgenden Beispiel sind Instruktionen bereits interpretiert dargestellt."
   ]
  },
  {
   "cell_type": "markdown",
   "metadata": {},
   "source": [
    "## Instruktionen\n",
    "\n",
    "1. Die Steuerlogik erfragt beim Speichersystem den Wert an der Stelle des Instruktionszeigers.\n",
    "1. Über das Bussystem schickt der Speicher den Wert an die Steuerlogik, welche diesen in einem Register abspeichert.\n",
    "1. Die Steuerlogik interpretiert jenen Wert als Befehl, z.B. die Addition von zwei Zahlen an den Speicheradressen A und B. Das Ergebnis wird an Speicherstelle C geschrieben.\n",
    "1. Kommunikation der CPU mit dem Speicher zum Füllen von zwei arithmetischen Registern aus den Speicheradressen A und B.\n",
    "1. Anweisung an das Rechenwerk die Zahlen aus den beiden Registern zu addieren und in ein weiteres Register zu schreiben.\n",
    "1. Senden des errechneten Wertes aus dem Register an die Speicherstelle C.\n",
    "1. Setzen des Instruktionszeigers (z.B. auf die nächste Speicherstelle).\n",
    "1. Bei Punkt 1 weiterarbeiten."
   ]
  },
  {
   "cell_type": "markdown",
   "metadata": {},
   "source": [
    "## Arbeitstakte"
   ]
  },
  {
   "cell_type": "markdown",
   "metadata": {
    "tags": [
     "remove_input"
    ]
   },
   "source": [
    "````{tab-set}\n",
    "```{tab-item} 1000\n",
    "<img class=\"mySlides\" src=\"./bilder/arbeitsweise-cpu-1000.svg\" style=\"width:100%\">\n",
    "```\n",
    "\n",
    "```{tab-item} 1001\n",
    "<img class=\"mySlides\" src=\"./bilder/arbeitsweise-cpu-1001.svg\" style=\"width:100%\">\n",
    "```\n",
    "\n",
    "```{tab-item} 1002\n",
    "<img class=\"mySlides\" src=\"./bilder/arbeitsweise-cpu-1002.svg\" style=\"width:100%\">\n",
    "```\n",
    "\n",
    "```{tab-item} 1003\n",
    "<img class=\"mySlides\" src=\"./bilder/arbeitsweise-cpu-1003.svg\" style=\"width:100%\">\n",
    "```\n",
    "\n",
    "```{tab-item} 1004\n",
    "<img class=\"mySlides\" src=\"./bilder/arbeitsweise-cpu-1004.svg\" style=\"width:100%\">\n",
    "```\n",
    "\n",
    "```{tab-item} 1005\n",
    "<img class=\"mySlides\" src=\"./bilder/arbeitsweise-cpu-1005.svg\" style=\"width:100%\">\n",
    "```\n",
    "\n",
    "```{tab-item} 1006\n",
    "<img class=\"mySlides\" src=\"./bilder/arbeitsweise-cpu-1006.svg\" style=\"width:100%\">\n",
    "```\n",
    "\n",
    "```{tab-item} 1007\n",
    "<img class=\"mySlides\" src=\"./bilder/arbeitsweise-cpu-1007.svg\" style=\"width:100%\">\n",
    "```"
   ]
  },
  {
   "cell_type": "code",
   "execution_count": null,
   "metadata": {},
   "outputs": [],
   "source": []
  }
 ],
 "metadata": {
  "kernelspec": {
   "display_name": "Python 3 (ipykernel)",
   "language": "python",
   "name": "python3"
  },
  "language_info": {
   "codemirror_mode": {
    "name": "ipython",
    "version": 3
   },
   "file_extension": ".py",
   "mimetype": "text/x-python",
   "name": "python",
   "nbconvert_exporter": "python",
   "pygments_lexer": "ipython3",
   "version": "3.10.10"
  }
 },
 "nbformat": 4,
 "nbformat_minor": 4
}
