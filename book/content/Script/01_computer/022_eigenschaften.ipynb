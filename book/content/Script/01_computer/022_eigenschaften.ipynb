{
 "cells": [
  {
   "cell_type": "code",
   "execution_count": 5,
   "metadata": {
    "jupyter": {
     "source_hidden": true
    },
    "tags": [
     "remove_input",
     "remove_cell"
    ]
   },
   "outputs": [],
   "source": [
    "import copy\n",
    "\n",
    "import matplotlib.pyplot as plt\n",
    "# params = {'mathtext.default': 'regular' }\n",
    "params = {'text.usetex': True, 'font.family': 'sans-serif', 'figure.dpi': 400}\n",
    "plt.rcParams.update(params)\n",
    "\n",
    "# plt.rcParams['text.latex.preamble'] = [\n",
    "#        r'\\usepackage{siunitx}',   # i need upright \\micro symbols, but you need...\n",
    "#        r'\\sisetup{detect-all}',   # ...this to force siunitx to actually use your fonts\n",
    "#        r'\\usepackage{helvet}',    # set the normal font here\n",
    "#        r'\\usepackage{sansmath}',  # load up the sansmath so that math -> helvet\n",
    "#        r'\\sansmath'               # <- tricky! -- gotta actually tell tex to use!\n",
    "# ]\n",
    "\n",
    "import numpy as np\n",
    "import seaborn as sns\n",
    "sns.set()\n",
    "#sns.set(style=\"whitegrid\")\n",
    "sns.set_style('ticks')\n",
    "sns.set_context(\"notebook\", font_scale=1.0, rc={\"lines.linewidth\": 1.5})"
   ]
  },
  {
   "cell_type": "markdown",
   "metadata": {},
   "source": [
    "# Eigenschaften"
   ]
  },
  {
   "cell_type": "markdown",
   "metadata": {},
   "source": [
    "## Terminiertheit"
   ]
  },
  {
   "cell_type": "markdown",
   "metadata": {},
   "source": [
    "Terminiertheit bedeutet, dass ein Algorithmus nach endlich vielen Schritten anhält, oder er kontrolliert abbricht. Einfache Beispiele:\n",
    "* Addition zweier Dezimalzahlen\n",
    "* Summe der ersten N natürlichen Zahlen"
   ]
  },
  {
   "cell_type": "markdown",
   "metadata": {},
   "source": [
    "Allerdings kann die Terminiertheit nicht für alle Algorithmen gezeigt werden. Das [Halteproblem](https://de.wikipedia.org/wiki/Halteproblem) besagt, dass es kein Verfahren gibt, welches immer zutreffend sagen kann, ob der Algorithmus für die Eingabe terminiert. Hierzu kann das [Collatz-Problem](https://de.wikipedia.org/wiki/Collatz-Problem) als Beispiel herangezogen werden. \n",
    "\n",
    "Die Zahlenfolge wird wie folgt konstruiert: \n",
    "* beginne mit irgendeiner natürlichen Zahl $\\sf n_0 > 0$\n",
    "* ist $\\sf n_i$ gerade so ist $\\sf n_{i+1} = n_i/2$\n",
    "* ist $\\sf n_i$ ungerade so ist $\\sf n_{i+1} = 3n_i + 1$\n",
    "* endet bei $\\sf n_i = 1$\n",
    "\n",
    "Collatz-Vermutung: Jede so konstruierte Zahlenfolge mündet in den Zyklus 4, 2, 1, egal, mit welcher natürlichen Zahl man beginnt. Bisher unbewiesen."
   ]
  },
  {
   "cell_type": "markdown",
   "metadata": {},
   "source": [
    "## Determiniertheit"
   ]
  },
  {
   "cell_type": "markdown",
   "metadata": {},
   "source": [
    "Ein deterministischer Algorithmus ist ein Algorithmus, bei dem nur definierte und reproduzierbare Zustände auftreten. Die Ergebnisse des Algorithmus sind somit immer reproduzierbar. Beispiele hierfür:\n",
    "* Addition ganzer Zahlen\n",
    "* Selectionsort\n",
    "* Collatz-Sequenz"
   ]
  },
  {
   "cell_type": "markdown",
   "metadata": {},
   "source": [
    "## Effizienz"
   ]
  },
  {
   "cell_type": "markdown",
   "metadata": {},
   "source": [
    "Die Effizienz eines Algorithmus ist nicht strikt definiert und kann folgende Aspekte umfassen: \n",
    "* Laufzeit\n",
    "* Speicheraufwand\n",
    "* Energieverbrauch\n",
    "\n",
    "Bei bestimmten Anwendungen sind entsprechende Eigenschaften notwendig:\n",
    "* Speicheraufwand bei *Big Data*, also riesige Datenmengen, z.B. in der Bioinformatik\n",
    "* Laufzeit bei Echtzeitanwendung, z.B. Flugzeugsteuerung, Fußgängerdynamik"
   ]
  },
  {
   "cell_type": "markdown",
   "metadata": {},
   "source": [
    "## Komplexität"
   ]
  },
  {
   "cell_type": "markdown",
   "metadata": {},
   "source": [
    "Bei der Analyse von Algorithmen, gilt es die Komplexiät zu bestimmen, welche ein Maß für den Aufwand darstellt. Dabei wird nach einer Aufwandfunktion $\\sf f(n)$ gesucht, welche von der Problemgröße $\\sf n$ abhängt. Beispiel für eine Problemgröße:\n",
    "* Anzahl der Summanden bei einer Summe \n",
    "* Anzahl der zu sortierenden Zahlen\n",
    "\n",
    "Meist wird dabei die Bestimmung auf eine asymptotische Analyse, d.h. eine einfache Vergleichsfunktion $\\sf g(n)$ mit $\\sf n \\rightarrow \\infty$, reduziert. Dabei beschränkt $\\sf g(n)$ das Wachstum von $\\sf f(n)$."
   ]
  },
  {
   "cell_type": "markdown",
   "metadata": {},
   "source": [
    "Die Funktion $\\sf g(n)$ wird oft durch ein $\\sf \\mathcal{O}$ gekennzeichnet und gibt so eine möglichst einfache Vergleichsfunktion an. Beispiele:\n",
    "\n",
    "* $\\sf f_1(n) = n^4 + 5n^2 - 10 \\approx \\mathcal{O}(n^4) = g_1(n)$ \n",
    "* $\\sf f_2(n) = 2^{n+1} \\approx \\mathcal{O}(2^n) = g_2(n)$ "
   ]
  },
  {
   "cell_type": "code",
   "execution_count": 9,
   "metadata": {
    "tags": [
     "remove_input"
    ]
   },
   "outputs": [],
   "source": [
    "x = np.linspace(1,100,500)\n",
    "f = x**4 - 60*x**2 + 1000\n",
    "g = x**4\n",
    "\n",
    "plt.plot(x,f, label='$\\sf f_1(n)$')\n",
    "plt.plot(x,g, label='$\\sf g_1(n)$')\n",
    "plt.xlabel('n')\n",
    "plt.legend()\n",
    "plt.xscale('log')\n",
    "plt.yscale('log')\n",
    "plt.grid()\n",
    "plt.savefig('./bilder/komplexitaet.svg')\n",
    "plt.close()"
   ]
  },
  {
   "cell_type": "markdown",
   "metadata": {},
   "source": [
    ":::{figure-md} fig-algorithmus-komplexitaet\n",
    "\n",
    "<img src=\"./bilder/komplexitaet.svg\" width=\"75%\">\n",
    "\n",
    "Komplexität eines Algorithmus durch Vergleich einer Aufwandfunktion mit einer Vergleichsfunktion\n",
    ":::"
   ]
  },
  {
   "cell_type": "markdown",
   "metadata": {},
   "source": [
    "Um sich ein besseres Bild zu den Auswirkungen hoher Komplexitäten zu machen, sei folgendes Beispiel gegeben.\n",
    "* ein Berechnungsschritt (unabhängig von der Problemgröße $\\sf n$) sei z.B. 1 s lang\n",
    "* das $\\sf n$ sei beispielsweise 1000\n",
    "\n",
    "Damit ergeben sich folgende (asymptotische) Abschätzungen der Laufzeit:\n",
    "* $\\sf \\mathcal{O}(n)$: 10<sup>3</sup> s ≈ 1 h \n",
    "* $\\sf \\mathcal{O}(n^2)$: 10<sup>6</sup> s ≈ 11 d \n",
    "* $\\sf \\mathcal{O}(n^3)$: 10<sup>9</sup> s ≈ 31 a \n",
    "* $\\sf \\mathcal{O}(2^n)$: 2<sup>1000</sup> s ≈ ..."
   ]
  },
  {
   "cell_type": "markdown",
   "metadata": {},
   "source": [
    "### Komplexität Selectionsort\n",
    "\n",
    "Die Kompexität dieses Verfahrens kann leicht abgeschätzt werden. Bei jedem Durchlauf wir das Minimum / Maximum gesucht, was anfangs $\\sf n$ Operationen benötigt. Beim nächsten Durchlauf sind es nur noch $\\sf n − 1$ Operationen und so weiter. In der Summe sind es also \n",
    "\n",
    "$$ \\sf f(n) = \\sum_{i=0}^n i = \\frac{n(n-1)}{2} \\approx \\mathcal{O}(n^2) $$\n",
    "\n",
    "Damit hat der Selectionsort eine Komplexität von $\\sf \\mathcal{O}(n^2)$. Die folgende Abbildung verdeutlicht dies nochmals."
   ]
  },
  {
   "cell_type": "code",
   "execution_count": 18,
   "metadata": {
    "jupyter": {
     "source_hidden": true
    },
    "tags": [
     "remove_input",
     "remove_cell"
    ]
   },
   "outputs": [],
   "source": [
    "def sort_sel(A):\n",
    "    cnt = 0\n",
    "    n = len(A)\n",
    "    for i in range(n):\n",
    "        mv = A[i]\n",
    "        mi = i\n",
    "        for j in range(i, n):\n",
    "            cnt += 1\n",
    "            if A[j] < mv:\n",
    "                mv = A[j]\n",
    "                mi = j\n",
    "#                 cnt += 1\n",
    "        A[mi] = A[i]\n",
    "        A[i] = mv\n",
    "#         cnt += 1\n",
    "    return cnt\n",
    "\n",
    "def sort_bubble(A):\n",
    "    cnt = 0\n",
    "    n = len(A)\n",
    "    for i in range(n):\n",
    "        swapped = False\n",
    "        for j in range(0, n-i-1):\n",
    "#             print(j, 0, n-i)\n",
    "            cnt += 1\n",
    "            if A[j+1] < A[j]:\n",
    "                mv = A[j]\n",
    "                A[j] = A[j+1]\n",
    "                A[j+1] = mv\n",
    "#                 cnt += 3\n",
    "                swapped = True\n",
    "        if swapped == False:\n",
    "#             print('no swap', i)\n",
    "            return cnt\n",
    "    return cnt"
   ]
  },
  {
   "cell_type": "code",
   "execution_count": 19,
   "metadata": {
    "jupyter": {
     "source_hidden": true
    },
    "tags": [
     "remove_cell"
    ]
   },
   "outputs": [],
   "source": [
    "def analyse_sorting(sort_fnk, non_rand_p = 0.0, reps = 100):\n",
    "    n_max = 100001\n",
    "    rand_A = np.random.randint(0, high=n_max // 2, size=10*n_max)\n",
    "\n",
    "    def time_sorting(n):\n",
    "        i = np.random.randint(0, n_max, size=1)[0]\n",
    "        A = np.copy(rand_A[i:i+n])\n",
    "        non_rand_i = np.linspace(0, n-1, int(n*non_rand_p), dtype=np.int32)\n",
    "#         print(n, len(non_rand_i))\n",
    "        A[non_rand_i] = np.linspace(0, n_max//2, len(non_rand_i), dtype=np.int32)\n",
    "#         print(A)\n",
    "        return sort_fnk(A)\n",
    "\n",
    "    res_min = []\n",
    "    res_avg = []\n",
    "    res_max = []\n",
    "    ns = []\n",
    "\n",
    "# for n in range(1, 10, 1):\n",
    "#     print(n)\n",
    "#     res = []\n",
    "#     for r in range(reps):\n",
    "#         res.append(time_sorting(n))\n",
    "#     ns.append(n)\n",
    "#     res_min.append(np.min(res))\n",
    "#     res_max.append(np.max(res))\n",
    "#     res_avg.append(np.average(res))\n",
    "\n",
    "    for n in range(10, 101, 10):\n",
    "#         print(n)\n",
    "        res = []\n",
    "        for r in range(reps):\n",
    "            res.append(time_sorting(n))\n",
    "        ns.append(n)\n",
    "        res_min.append(np.min(res))\n",
    "        res_max.append(np.max(res))\n",
    "        res_avg.append(np.average(res))\n",
    "        print(n, np.average(res))\n",
    "\n",
    "#     for n in range(100, 1101, 100):\n",
    "#         print(n)\n",
    "#         res = []\n",
    "#         for r in range(reps):\n",
    "#             res.append(time_sorting(n))\n",
    "#         ns.append(n)\n",
    "#         res_min.append(np.min(res))\n",
    "#         res_max.append(np.max(res))\n",
    "#         res_avg.append(np.average(res))\n",
    "    \n",
    "    return np.array(ns), np.array(res_min), np.array(res_avg), np.array(res_max)"
   ]
  },
  {
   "cell_type": "code",
   "execution_count": 20,
   "metadata": {
    "tags": [
     "remove_cell"
    ]
   },
   "outputs": [],
   "source": [
    "def plot_sorting(res, label, avg_only = False, title=None):\n",
    "    \n",
    "    ns, y1, y2, y3 = res\n",
    "    \n",
    "    if not avg_only:\n",
    "        plt.plot(ns, y1, color='C0', lw=0.5)\n",
    "        plt.plot(ns, y3, color='C0', lw=0.5, label='Min / Max')\n",
    "        plt.fill_between(ns, y1, y3, alpha=0.3, color='C0')\n",
    "    plt.plot(ns, y2, color='C1', label='Mittelwert')\n",
    "\n",
    "    yi1 = 1e0 * ns\n",
    "    yi2 = 1e0 * ns**2\n",
    "\n",
    "    plt.plot(ns, yi1, ls=':', color='C2', label='Hilfslinien, $\\sf \\mathcal{O}(n)$, $\\sf \\mathcal{O}(n^2)$')\n",
    "    plt.plot(ns, yi2, ls=':', color='C2')\n",
    "\n",
    "    plt.xscale('log')\n",
    "    plt.yscale('log')\n",
    "\n",
    "    plt.xlabel('Länge der Werteliste')\n",
    "    plt.ylabel('Durchgeführte Operationen')\n",
    "    plt.grid()\n",
    "    plt.legend()\n",
    "    if title:\n",
    "        plt.title(title)\n",
    "    plt.savefig('./bilder/{}.svg'.format(label))\n",
    "    plt.close()"
   ]
  },
  {
   "cell_type": "code",
   "execution_count": 21,
   "metadata": {
    "collapsed": true,
    "jupyter": {
     "outputs_hidden": true,
     "source_hidden": true
    },
    "tags": [
     "remove_cell"
    ]
   },
   "outputs": [
    {
     "name": "stdout",
     "output_type": "stream",
     "text": [
      "10 42.071\n",
      "20 181.118\n",
      "30 419.533\n",
      "40 756.878\n",
      "50 1195.188\n",
      "60 1733.738\n",
      "70 2366.302\n",
      "80 3103.986\n",
      "90 3943.195\n",
      "100 4878.642\n"
     ]
    }
   ],
   "source": [
    "res1 = analyse_sorting(sort_bubble, non_rand_p = 0.0, reps = 1000)"
   ]
  },
  {
   "cell_type": "code",
   "execution_count": 14,
   "metadata": {
    "tags": [
     "remove_input"
    ]
   },
   "outputs": [],
   "source": [
    "plot_sorting(res1, 'sort_selection', avg_only = True)"
   ]
  },
  {
   "cell_type": "markdown",
   "metadata": {},
   "source": [
    ":::{figure-md} fig-algorithmus-selectionsort\n",
    "\n",
    "<img src=\"./bilder/sort_selection.svg\" width=\"75%\">\n",
    "\n",
    "Abschätzung der Koplexität des Selectionsort-Algorithmus\n",
    ":::"
   ]
  },
  {
   "cell_type": "markdown",
   "metadata": {},
   "source": [
    "### Komplexität Bubblesort\n",
    "\n",
    "Die Komplexität des Bubblesort muss unterschieden werden in den günstigsten Fall (best case), den ungünstigsten Fall (worst case) und einem durchschnittlichen Fall (average case):\n",
    "* best case: $\\sf \\mathcal{O}(n)$\n",
    "* worst case: $\\sf \\mathcal{O}(n^2)$ \n",
    "* average case: $\\sf \\mathcal{O}(n^2)$"
   ]
  },
  {
   "cell_type": "markdown",
   "metadata": {},
   "source": [
    "Der best case ergibt sich zum Beispiel, falls die Eingabeliste bereits sortiert ist, da der Algorithmus nur einmal durch die Liste gehen muss, entsprechend n-Mal. Folgende Abbildung verdeutlicht die Anzahl der durchgeführten Operationen im Falle einer vollständig zufälligen Liste und einer, bei welcher 95% der Werte bereits sortiert ist. Dabei wurden für jedes $\\sf n$ jeweils 10000 Listen sortiert. Es ist der Mittelwert und die minimalen und maximalen Operationen dargestellt."
   ]
  },
  {
   "cell_type": "code",
   "execution_count": 22,
   "metadata": {
    "tags": [
     "remove_cell"
    ]
   },
   "outputs": [
    {
     "name": "stdout",
     "output_type": "stream",
     "text": [
      "10 42.0608\n",
      "20 180.9957\n",
      "30 419.0723\n",
      "40 756.867\n",
      "50 1193.4461\n",
      "60 1731.3038\n",
      "70 2367.7058\n",
      "80 3105.3404\n",
      "90 3940.6357\n",
      "100 4878.2245\n"
     ]
    }
   ],
   "source": [
    "res2 = analyse_sorting(sort_bubble, non_rand_p = 0.0, reps = 10000)"
   ]
  },
  {
   "cell_type": "code",
   "execution_count": 23,
   "metadata": {
    "tags": [
     "remove_input"
    ]
   },
   "outputs": [],
   "source": [
    "plot_sorting(res2, 'sort_bubble_p000', title='0\\% vorsortiert')"
   ]
  },
  {
   "cell_type": "markdown",
   "metadata": {},
   "source": [
    ":::{figure-md} fig-algorithmus-bubble_p000\n",
    "\n",
    "<img src=\"./bilder/sort_bubble_p000.svg\" width=\"75%\">\n",
    "\n",
    "Abschätzung der Koplexität des Bubblesort-Algorithmus ohne Vorsortierung\n",
    ":::"
   ]
  },
  {
   "cell_type": "code",
   "execution_count": 24,
   "metadata": {
    "tags": [
     "remove_cell"
    ]
   },
   "outputs": [
    {
     "name": "stdout",
     "output_type": "stream",
     "text": [
      "10 30.0212\n",
      "20 125.7727\n",
      "30 304.2403\n",
      "40 543.218\n",
      "50 901.8222\n",
      "60 1308.5608\n",
      "70 1875.0812\n",
      "80 2446.5717\n",
      "90 3213.3268\n",
      "100 3967.9108\n"
     ]
    }
   ],
   "source": [
    "res3 = analyse_sorting(sort_bubble, non_rand_p = 0.95, reps = 10000)"
   ]
  },
  {
   "cell_type": "code",
   "execution_count": 25,
   "metadata": {
    "tags": [
     "remove_input"
    ]
   },
   "outputs": [],
   "source": [
    "plot_sorting(res3, 'sort_bubble_p095', title='95\\% vorsortiert')"
   ]
  },
  {
   "cell_type": "markdown",
   "metadata": {},
   "source": [
    ":::{figure-md} fig-algorithmus-bubble_p095\n",
    "\n",
    "<img src=\"./bilder/sort_bubble_p095.svg\" width=\"75%\">\n",
    "\n",
    "Abschätzung der Koplexität des Bubblesort-Algorithmus mit einer 95%-igen Vorsortierung\n",
    ":::"
   ]
  },
  {
   "cell_type": "code",
   "execution_count": null,
   "metadata": {},
   "outputs": [],
   "source": []
  }
 ],
 "metadata": {
  "kernelspec": {
   "display_name": "Python 3",
   "language": "python",
   "name": "python3"
  },
  "language_info": {
   "codemirror_mode": {
    "name": "ipython",
    "version": 3
   },
   "file_extension": ".py",
   "mimetype": "text/x-python",
   "name": "python",
   "nbconvert_exporter": "python",
   "pygments_lexer": "ipython3",
   "version": "3.8.6"
  }
 },
 "nbformat": 4,
 "nbformat_minor": 4
}
