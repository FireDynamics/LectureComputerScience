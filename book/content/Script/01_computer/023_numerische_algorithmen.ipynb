{
 "cells": [
  {
   "cell_type": "code",
   "execution_count": 1,
   "metadata": {
    "tags": [
     "remove_cell"
    ]
   },
   "outputs": [],
   "source": [
    "import matplotlib.pyplot as plt\n",
    "# params = {'mathtext.default': 'regular' }\n",
    "params = {'text.usetex': True, 'font.family': 'sans-serif', 'figure.dpi': 400}\n",
    "plt.rcParams.update(params)\n",
    "\n",
    "import matplotlib as mpl\n",
    "mpl.rcParams['svg.hashsalt'] = 'seed'\n",
    "svg_metadata={'Date':None}\n",
    "\n",
    "# plt.rcParams['text.latex.preamble'] = [\n",
    "#        r'\\usepackage{siunitx}',   # i need upright \\micro symbols, but you need...\n",
    "#        r'\\sisetup{detect-all}',   # ...this to force siunitx to actually use your fonts\n",
    "#        r'\\usepackage{helvet}',    # set the normal font here\n",
    "#        r'\\usepackage{sansmath}',  # load up the sansmath so that math -> helvet\n",
    "#        r'\\sansmath'               # <- tricky! -- gotta actually tell tex to use!\n",
    "# ]\n",
    "\n",
    "import numpy as np\n",
    "import seaborn as sns\n",
    "\n",
    "sns.set()\n",
    "#sns.set(style=\"whitegrid\")\n",
    "sns.set_style('ticks')\n",
    "sns.set_context(\"notebook\", font_scale=1.0, rc={\"lines.linewidth\": 1.5})"
   ]
  },
  {
   "cell_type": "markdown",
   "metadata": {},
   "source": [
    "# Numerische Algorithmen"
   ]
  },
  {
   "cell_type": "markdown",
   "metadata": {},
   "source": [
    "## Newton-Raphson-Verfahren"
   ]
  },
  {
   "cell_type": "markdown",
   "metadata": {},
   "source": [
    "Eines der einfachsten und auch ältesten Verfahren zur Suche von Nullstellen von Funktionen ist das [Newton-Raphson-Verfahren](https://de.wikipedia.org/wiki/Newtonverfahren), welches bereits im 17-ten Jahrhundert entwickelt und eingestetzt wurde."
   ]
  },
  {
   "cell_type": "markdown",
   "metadata": {},
   "source": [
    "### Anwendungen\n",
    "Das Finden von Nullstellen ist die Grundlage für viele Verfahren, welche z.B. für \n",
    "* das Lösen von nicht-linearen Gleichungen, \n",
    "* das Finden von Extremwerten, oder\n",
    "* Optimierungsverfahren\n",
    "\n",
    "eingesetzt werden kann.\n",
    " "
   ]
  },
  {
   "cell_type": "markdown",
   "metadata": {},
   "source": [
    "### Grundidee \n",
    "Die Grundidee beruht auf einer iterativen Suche der Nullstelle $\\sf x_{ns}$ einer stetig differenzierbaren Funktion $\\sf f(x)$ mit Hilfe der ersten Ableitung $\\sf f'(x)$. Durch das Anlegen von Tangenten an die aktuelle Näherung der Nullstelle $\\sf x_i$ kann die nächste Näherung bestimmt werden. \n",
    "\n",
    "Bei gegebenen Startwert, $\\sf x_0$ für den ersten Iterationsschritt ($\\sf i=0$), können die folgenden Näherungen durch\n",
    "\n",
    "$$\\sf x_{i+1} = x_i - \\frac{f(x_i)}{f'(x_i)} $$\n",
    "\n",
    "berechnet werden. Dabei bestimmt die Wahl des Startwerts, welche der ggf. mehreren Nullstellen gefunden wird. "
   ]
  },
  {
   "cell_type": "markdown",
   "metadata": {},
   "source": [
    "### Beispiel 1\n",
    "\n",
    "Gegeben ist die Funktion $\\sf f(x) = x^2 - 1$. Die Ableitung ist gegeben durch $\\sf f'(x) = 2x$ und die Nullstellen lauten $\\sf x_{ns} = \\{-1, 1\\}$."
   ]
  },
  {
   "cell_type": "markdown",
   "metadata": {},
   "source": [
    "Bei einem Startwert von $\\sf x_0 = 0.3$ führt zu folgender Iteration:"
   ]
  },
  {
   "cell_type": "code",
   "execution_count": 2,
   "metadata": {
    "tags": [
     "remove_input"
    ]
   },
   "outputs": [
    {
     "name": "stdout",
     "output_type": "stream",
     "text": [
      "Startwert x_0 = 0.3000\n",
      "\n",
      "Iterationsschritt i =  1, x_i = 0.3000\n",
      "   f(x_i)  = -0.9100\n",
      "   fp(x_i) = 0.6000\n",
      "   x_(i+1) = 1.8167\n",
      "\n",
      "Iterationsschritt i =  2, x_i = 1.8167\n",
      "   f(x_i)  = 2.3003\n",
      "   fp(x_i) = 3.6333\n",
      "   x_(i+1) = 1.1836\n",
      "\n",
      "Iterationsschritt i =  3, x_i = 1.1836\n",
      "   f(x_i)  = 0.4008\n",
      "   fp(x_i) = 2.3671\n",
      "   x_(i+1) = 1.0142\n",
      "\n",
      "Iterationsschritt i =  4, x_i = 1.0142\n",
      "   f(x_i)  = 0.0287\n",
      "   fp(x_i) = 2.0285\n",
      "   x_(i+1) = 1.0001\n",
      "\n",
      "\n",
      "Endergebnis nach 5 Iterationen: x_(ns) = 1.0001\n"
     ]
    }
   ],
   "source": [
    "def f(x):\n",
    "    return x**2 - 1\n",
    "def fp(x):\n",
    "    return 2*x\n",
    "\n",
    "x0 = 0.3\n",
    "\n",
    "print('Startwert x_0 = {:.4f}'.format(x0))\n",
    "print()\n",
    "\n",
    "n = 5\n",
    "xi = [x0]\n",
    "for i in range(1,n):\n",
    "    xp = xi[i-1]\n",
    "    xn = xp - (f(xp)/fp(xp))\n",
    "    \n",
    "    print('Iterationsschritt i = {:2d}, x_i = {:.4f}'.format(i, xp))\n",
    "    print('   f(x_i)  = {:.4f}'.format(f(xp)))\n",
    "    print('   fp(x_i) = {:.4f}'.format(fp(xp)))\n",
    "    print('   x_(i+1) = {:.4f}'.format(xn))\n",
    "    print()\n",
    "    \n",
    "    xi.append(xn)\n",
    "    \n",
    "print()\n",
    "print('Endergebnis nach {} Iterationen: x_(ns) = {:.4f}'.format(n, xi[-1]))"
   ]
  },
  {
   "cell_type": "code",
   "execution_count": 3,
   "metadata": {
    "tags": [
     "remove_cell"
    ]
   },
   "outputs": [
    {
     "data": {
      "text/plain": [
       "<Figure size 2560x1920 with 0 Axes>"
      ]
     },
     "metadata": {},
     "output_type": "display_data"
    }
   ],
   "source": [
    "x_start = np.min(xi)\n",
    "x_end = np.max(xi)\n",
    "\n",
    "x_d = x_end - x_start\n",
    "\n",
    "x_start -= 0.1 * x_d\n",
    "x_end += 0.1 * x_d\n",
    "\n",
    "xarr = np.linspace(x_start, x_end, 100)\n",
    "yarr = f(xarr)\n",
    "y_d = np.max(yarr) - np.min(yarr)\n",
    "\n",
    "\n",
    "n_max = 4\n",
    "first = True\n",
    "for n in range(0, n_max+1):\n",
    "    plt.plot(xarr, f(xarr), label='f(x)')\n",
    "    plt.axhline(0, c='grey', zorder=0)\n",
    "    plt.xlabel('x')\n",
    "    plt.ylabel('f(x)')\n",
    "    for i in range(n):\n",
    "        x = xi[i]\n",
    "        xn = xi[i+1]\n",
    "        c = 'C3'\n",
    "        a = 1.0\n",
    "        if i != n-1:\n",
    "            c = 'gray'\n",
    "            a = 0.3\n",
    "        plt.scatter(x, 0, c=c, alpha=a, label='Iterationspunkte $x_i$' if first else None, zorder=3)\n",
    "        plt.vlines(x, 0, f(x), color='grey', ls=':', zorder=0, alpha=a)\n",
    "        if x > xn:\n",
    "            x_t1 = xn - 0.1*x_d\n",
    "            x_t2 = x + 0.1*x_d\n",
    "            y_t1 = - 0.1*x_d * fp(x)\n",
    "            y_t2 = f(x) + 0.1*x_d * fp(x)\n",
    "        else:\n",
    "            x_t2 = xn + 0.1*x_d\n",
    "            x_t1 = x - 0.1*x_d\n",
    "            y_t2 = 0.1*x_d * fp(x)\n",
    "            y_t1 = f(x) - 0.1*x_d * fp(x)\n",
    "\n",
    "    #     plt.plot([x, xn], [f(x), 0], c='C3')\n",
    "        plt.plot([x_t1, x_t2], [y_t1, y_t2], c=c, alpha=a, label='Tangenten' if first else None)\n",
    "        if i == n_max:\n",
    "            plt.scatter(xn, 0, c='C4', zorder=3)\n",
    "        first = False\n",
    "    plt.savefig('bilder/newton_bsp1_step_{:02d}.svg'.format(n), metadata=svg_metadata)\n",
    "    plt.clf()"
   ]
  },
  {
   "cell_type": "code",
   "execution_count": 4,
   "metadata": {
    "tags": [
     "remove_input"
    ]
   },
   "outputs": [],
   "source": [
    "n_max = 3\n",
    "first = True\n",
    "\n",
    "plt.plot(xarr, f(xarr), label='f(x)', c='C0')\n",
    "plt.axhline(0, c='grey', zorder=0)\n",
    "plt.xlabel('x')\n",
    "plt.ylabel('f(x)')\n",
    "\n",
    "for i in range(n_max):\n",
    "    x = xi[i]\n",
    "    xn = xi[i+1]\n",
    "    c = 'C1'\n",
    "    a = 1.0\n",
    "    plt.scatter(x, 0, c='C2', alpha=a, label='Iterationspunkte $x_i$' if first else None, zorder=3)\n",
    "    plt.vlines(x, 0, f(x), color='grey', ls=':', zorder=0, alpha=a)\n",
    "    if x > xn:\n",
    "        x_t1 = xn - 0.1*x_d\n",
    "        x_t2 = x + 0.1*x_d\n",
    "        y_t1 = - 0.1*x_d * fp(x)\n",
    "        y_t2 = f(x) + 0.1*x_d * fp(x)\n",
    "    else:\n",
    "        x_t2 = xn + 0.1*x_d\n",
    "        x_t1 = x - 0.1*x_d\n",
    "        y_t2 = 0.1*x_d * fp(x)\n",
    "        y_t1 = f(x) - 0.1*x_d * fp(x)\n",
    "\n",
    "    plt.plot([x_t1, x_t2], [y_t1, y_t2], c=c, alpha=0.75, label='Tangenten' if first else None)\n",
    "    if i == n_max:\n",
    "        plt.scatter(xn, 0, c='C4', zorder=3)\n",
    "    first = False    \n",
    "\n",
    "text_y = 0.035 * y_d\n",
    "plt.text(xi[0]+0.025*x_d, text_y, '$x_0$')\n",
    "plt.text(xi[1]+0.025*x_d, text_y, '$x_1$')\n",
    "plt.text(xi[2]+0.025*x_d, -1.5*text_y, '$x_2$')\n",
    "plt.text(xi[3]-2*0.025*x_d, text_y, '$x_3$')\n",
    "\n",
    "plt.scatter(xi[n_max], 0, c='C2', zorder=3)\n",
    "# plt.text(xi[n_max], 0.035 * y_d, 'x_{}'.format(n_max))\n",
    "plt.legend()\n",
    "plt.savefig('bilder/newton_bsp1.svg', metadata=svg_metadata)\n",
    "# plt.show()\n",
    "plt.close()"
   ]
  },
  {
   "cell_type": "markdown",
   "metadata": {},
   "source": [
    ":::{figure-md} fig-algorithmus-newton-bsp1\n",
    "\n",
    "<img src=\"./bilder/newton_bsp1.svg\" width=\"75%\">\n",
    "\n",
    "Newton-Verfahren, Beispiel 1\n",
    ":::\n",
    "\n",
    "````{tab-set}\n",
    "```{tab-item} Schritt 0\n",
    "<img class=\"mySlides\" src=\"./bilder/newton_bsp1_step_00.svg\" style=\"width:75%\">\n",
    "```\n",
    "```{tab-item} Schritt 1\n",
    "<img class=\"mySlides\" src=\"./bilder/newton_bsp1_step_01.svg\" style=\"width:75%\">\n",
    "```\n",
    "```{tab-item} Schritt 2\n",
    "<img class=\"mySlides\" src=\"./bilder/newton_bsp1_step_02.svg\" style=\"width:75%\">\n",
    "```\n",
    "```{tab-item} Schritt 3\n",
    "<img class=\"mySlides\" src=\"./bilder/newton_bsp1_step_03.svg\" style=\"width:75%\">\n",
    "```\n",
    "```{tab-item} Schritt 4\n",
    "<img class=\"mySlides\" src=\"./bilder/newton_bsp1_step_04.svg\" style=\"width:75%\">\n",
    "```\n",
    "````"
   ]
  },
  {
   "cell_type": "markdown",
   "metadata": {},
   "source": [
    "### Beispiel 2\n",
    "\n",
    "Gegeben ist die Funktion $\\sf f(x) = \\sin(x) - 0.5$ mit der Ableitung $\\sf f'(x) = \\cos(x)$."
   ]
  },
  {
   "cell_type": "code",
   "execution_count": 5,
   "metadata": {
    "tags": [
     "remove_input"
    ]
   },
   "outputs": [
    {
     "name": "stdout",
     "output_type": "stream",
     "text": [
      "Startwert x_0 = 1.3000\n",
      "\n",
      "Iterationsschritt i =  1, x_i = 1.3000\n",
      "   f(x_i)  = 0.4636\n",
      "   fp(x_i) = 0.2675\n",
      "   x_(i+1) = -0.4329\n",
      "\n",
      "Iterationsschritt i =  2, x_i = -0.4329\n",
      "   f(x_i)  = -0.9195\n",
      "   fp(x_i) = 0.9077\n",
      "   x_(i+1) = 0.5801\n",
      "\n",
      "Iterationsschritt i =  3, x_i = 0.5801\n",
      "   f(x_i)  = 0.0481\n",
      "   fp(x_i) = 0.8364\n",
      "   x_(i+1) = 0.5226\n",
      "\n",
      "Iterationsschritt i =  4, x_i = 0.5226\n",
      "   f(x_i)  = -0.0009\n",
      "   fp(x_i) = 0.8665\n",
      "   x_(i+1) = 0.5236\n",
      "\n",
      "\n",
      "Endergebnis nach 5 Iterationen: x_(ns) = 0.5236\n"
     ]
    }
   ],
   "source": [
    "def f(x):\n",
    "    return np.sin(x) -0.5\n",
    "def fp(x):\n",
    "    return np.cos(x)\n",
    "\n",
    "x0 = 1.3\n",
    "\n",
    "print('Startwert x_0 = {:.4f}'.format(x0))\n",
    "print()\n",
    "\n",
    "n = 5\n",
    "xi = [x0]\n",
    "for i in range(1,n):\n",
    "    xp = xi[i-1]\n",
    "    xn = xp - (f(xp)/fp(xp))\n",
    "    \n",
    "    print('Iterationsschritt i = {:2d}, x_i = {:.4f}'.format(i, xp))\n",
    "    print('   f(x_i)  = {:.4f}'.format(f(xp)))\n",
    "    print('   fp(x_i) = {:.4f}'.format(fp(xp)))\n",
    "    print('   x_(i+1) = {:.4f}'.format(xn))\n",
    "    print()\n",
    "    \n",
    "    xi.append(xn)\n",
    "    \n",
    "print()\n",
    "print('Endergebnis nach {} Iterationen: x_(ns) = {:.4f}'.format(n, xi[-1]))"
   ]
  },
  {
   "cell_type": "code",
   "execution_count": 6,
   "metadata": {
    "tags": [
     "remove_input",
     "remove_cell"
    ]
   },
   "outputs": [],
   "source": [
    "x_start = np.min(xi)\n",
    "x_end = np.max(xi)\n",
    "\n",
    "x_d = x_end - x_start\n",
    "\n",
    "x_start -= 0.1 * x_d\n",
    "x_end += 0.1 * x_d\n",
    "\n",
    "xarr = np.linspace(x_start, x_end, 100)\n",
    "yarr = f(xarr)\n",
    "y_d = np.max(yarr) - np.min(yarr)\n",
    "\n",
    "\n",
    "n_max = 4\n",
    "first = True\n",
    "for n in range(0, n_max+1):\n",
    "    plt.plot(xarr, f(xarr), label='f(x)')\n",
    "    plt.axhline(0, c='grey', zorder=0)\n",
    "    plt.xlabel('x')\n",
    "    plt.ylabel('f(x)')\n",
    "    for i in range(n):\n",
    "        x = xi[i]\n",
    "        xn = xi[i+1]\n",
    "        c = 'C3'\n",
    "        a = 1.0\n",
    "        if i != n-1:\n",
    "            c = 'gray'\n",
    "            a = 0.3\n",
    "        plt.scatter(x, 0, c=c, alpha=a, label='Iterationspunkte $x_i$' if first else None, zorder=3)\n",
    "        plt.vlines(x, 0, f(x), color='grey', ls=':', zorder=0, alpha=a)\n",
    "        if x > xn:\n",
    "            x_t1 = xn - 0.1*x_d\n",
    "            x_t2 = x + 0.1*x_d\n",
    "            y_t1 = - 0.1*x_d * fp(x)\n",
    "            y_t2 = f(x) + 0.1*x_d * fp(x)\n",
    "        else:\n",
    "            x_t2 = xn + 0.1*x_d\n",
    "            x_t1 = x - 0.1*x_d\n",
    "            y_t2 = 0.1*x_d * fp(x)\n",
    "            y_t1 = f(x) - 0.1*x_d * fp(x)\n",
    "\n",
    "    #     plt.plot([x, xn], [f(x), 0], c='C3')\n",
    "        plt.plot([x_t1, x_t2], [y_t1, y_t2], c=c, alpha=a, label='Tangenten' if first else None)\n",
    "        if i == n_max:\n",
    "            plt.scatter(xn, 0, c='C4', zorder=3)\n",
    "        first = False\n",
    "    plt.savefig('bilder/newton_bsp2_step_{:02d}.svg'.format(n), metadata=svg_metadata)\n",
    "    plt.close()"
   ]
  },
  {
   "cell_type": "code",
   "execution_count": 7,
   "metadata": {
    "tags": [
     "remove_input"
    ]
   },
   "outputs": [],
   "source": [
    "n_max = 3\n",
    "first = True\n",
    "\n",
    "plt.plot(xarr, f(xarr), label='f(x)', c='C0')\n",
    "plt.axhline(0, c='grey', zorder=0)\n",
    "plt.xlabel('x')\n",
    "plt.ylabel('f(x)')\n",
    "\n",
    "for i in range(n_max):\n",
    "    x = xi[i]\n",
    "    xn = xi[i+1]\n",
    "    c = 'C1'\n",
    "    a = 1.0\n",
    "    plt.scatter(x, 0, c='C2', alpha=a, label='Iterationspunkte $x_i$' if first else None, zorder=3)\n",
    "    plt.vlines(x, 0, f(x), color='grey', ls=':', zorder=0, alpha=a)\n",
    "    if x > xn:\n",
    "        x_t1 = xn - 0.1*x_d\n",
    "        x_t2 = x + 0.1*x_d\n",
    "        y_t1 = - 0.1*x_d * fp(x)\n",
    "        y_t2 = f(x) + 0.1*x_d * fp(x)\n",
    "    else:\n",
    "        x_t2 = xn + 0.1*x_d\n",
    "        x_t1 = x - 0.1*x_d\n",
    "        y_t2 = 0.1*x_d * fp(x)\n",
    "        y_t1 = f(x) - 0.1*x_d * fp(x)\n",
    "\n",
    "    plt.plot([x_t1, x_t2], [y_t1, y_t2], c=c, alpha=0.75, label='Tangenten' if first else None)\n",
    "    if i == n_max:\n",
    "        plt.scatter(xn, 0, c='C4', zorder=3)\n",
    "    first = False    \n",
    "\n",
    "text_y = 0.035 * y_d\n",
    "plt.text(xi[0]+0.025*x_d, text_y, '$x_0$')\n",
    "plt.text(xi[1]-2*0.025*x_d, text_y, '$x_1$')\n",
    "plt.text(xi[2]+0.025*x_d, -1.5*text_y, '$x_2$')\n",
    "plt.text(xi[3]-2*0.025*x_d, text_y, '$x_3$')\n",
    "\n",
    "plt.scatter(xi[n_max], 0, c='C2', zorder=3)\n",
    "# plt.text(xi[n_max], 0.035 * y_d, 'x_{}'.format(n_max))\n",
    "plt.legend()\n",
    "plt.savefig('bilder/newton_bsp2.svg', metadata=svg_metadata)\n",
    "# plt.show()\n",
    "plt.close()"
   ]
  },
  {
   "cell_type": "markdown",
   "metadata": {},
   "source": [
    ":::{figure-md} fig-algorithmus-newton-bsp2\n",
    "\n",
    "<img src=\"./bilder/newton_bsp2.svg\" width=\"75%\">\n",
    "\n",
    "Newton-Verfahren, Beispiel 2\n",
    ":::\n",
    "\n",
    "````{tab-set}\n",
    "```{tab-item} Schritt 0\n",
    "<img class=\"mySlides\" src=\"./bilder/newton_bsp2_step_00.svg\" style=\"width:75%\">\n",
    "```\n",
    "```{tab-item} Schritt 1\n",
    "<img class=\"mySlides\" src=\"./bilder/newton_bsp2_step_01.svg\" style=\"width:75%\">\n",
    "```\n",
    "```{tab-item} Schritt 2\n",
    "<img class=\"mySlides\" src=\"./bilder/newton_bsp2_step_02.svg\" style=\"width:75%\">\n",
    "```\n",
    "```{tab-item} Schritt 3\n",
    "<img class=\"mySlides\" src=\"./bilder/newton_bsp2_step_03.svg\" style=\"width:75%\">\n",
    "```\n",
    "```{tab-item} Schritt 4\n",
    "<img class=\"mySlides\" src=\"./bilder/newton_bsp2_step_04.svg\" style=\"width:75%\">\n",
    "```\n",
    "````"
   ]
  },
  {
   "cell_type": "markdown",
   "metadata": {
    "tags": [
     "remove_cell"
    ]
   },
   "source": [
    "## Euler-Verfahren"
   ]
  },
  {
   "cell_type": "markdown",
   "metadata": {
    "tags": [
     "remove_cell"
    ]
   },
   "source": [
    "Das explizite [Euler-Verfahren](https://de.wikipedia.org/wiki/Explizites_Euler-Verfahren) ist ein einfacher Algorithmus zur Bestimmung von Näherungslösungen von gewöhnlichen Differentialgleichungen, insbesondere Anfangswertprobleme. Das Verfahren wird hier anhand einer linearen Differentialgleichung 1. Ordnung demonstiert, hier ist $\\sf y = y(t)$ eine Funktion der Zeit $\\sf t$. Die Differentialgleichung lautet\n",
    "\n",
    "$$\\sf \\dot y(t) + a(t)y(t) + b(t) = 0$$"
   ]
  },
  {
   "cell_type": "markdown",
   "metadata": {
    "tags": [
     "remove_cell"
    ]
   },
   "source": [
    "Mit einem vorgegebenen Anfangswert $\\sf y_0 = y(t_0)$ kann die Näherungslösung iterativ bis zur gewünschten Endzeit $\\sf t_e$ bestimmt werden. Dazu muss das betrachtete Zeitintervall $\\sf[t_0, t_e]$ in $\\sf n_t$ Teilintervalle aufgeteilt werden. Die Länge eines Teilintervalls ist \n",
    "\n",
    "$$\\sf \\Delta t = \\frac{t_e - t_0}{n_t}\\quad .$$ \n",
    "\n",
    "Das iterative Verfahren beschreibt die Bestimmung der Lösung im nächsten Zeitinterval $\\sf t_{i+1}$\n",
    "\n",
    "$$\\sf  y(t_{i+1}) = y(t_i) - \\Delta t \\big(a(t_i)y(t_i) + b(t_i)\\big)\\quad .$$"
   ]
  },
  {
   "cell_type": "markdown",
   "metadata": {
    "tags": [
     "remove_cell"
    ]
   },
   "source": [
    "### Beispiel 1\n",
    "\n",
    "Mit $\\sf a(t) = 1$, $\\sf b(t) = 0$ und einem Anfangswert von $\\sf y_0 = 1$."
   ]
  }
 ],
 "metadata": {
  "kernelspec": {
   "display_name": "Python 3 (ipykernel)",
   "language": "python",
   "name": "python3"
  },
  "language_info": {
   "codemirror_mode": {
    "name": "ipython",
    "version": 3
   },
   "file_extension": ".py",
   "mimetype": "text/x-python",
   "name": "python",
   "nbconvert_exporter": "python",
   "pygments_lexer": "ipython3",
   "version": "3.10.10"
  }
 },
 "nbformat": 4,
 "nbformat_minor": 4
}
