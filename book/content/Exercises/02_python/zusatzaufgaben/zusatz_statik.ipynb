{
 "cells": [
  {
   "attachments": {},
   "cell_type": "markdown",
   "metadata": {},
   "source": [
    "## Seildurchhang\n",
    "\n",
    "Beim Bauen mit Seilen muss man den Seildurchhang $f$ immer beachten Dieser ist im idealisierten Fall abhängig von der Spannweite $L$, der auf dem Seil wirkenden Kraft $q$ und den horizontalen Kräft an einem Auflager $H$.\n",
    "\n",
    "$$\n",
    "f = \\frac{ q \\cdot L^2}{ 8 \\cdot H }\n",
    "$$\n",
    "\n",
    "Die tatsächliche Seillänge $s$ hängt vom Stick $f$ und der Spannweite $L$ ab.\n",
    "\n",
    "$$\n",
    "s = L + \\frac{8 \\cdot f^2}{3 \\cdot L} - \\frac{32 \\cdot f^4}{5 \\cdot L^3}\n",
    "$$\n",
    "\n",
    "\n",
    "Schreiben Sie zwei Funktionen, eine die den Stich und eine die die tatsächlich Seillänge ermittelt.  \n",
    "\n",
    "Ermitteln Sie für ein $q = 10 kN/m$, $L = 20m$ und $H = 200kN$ den Stich und die tatsächliche Seillänge.\n"
   ]
  },
  {
   "cell_type": "code",
   "execution_count": 2,
   "metadata": {},
   "outputs": [
    {
     "name": "stdout",
     "output_type": "stream",
     "text": [
      "Der Stick beträgt 2.5 m und die Seillänge 20.802083333333332 m\n"
     ]
    }
   ],
   "source": [
    "q = 10\n",
    "L = 20\n",
    "H = 200\n",
    "\n",
    "def Stich(q, L, H):\n",
    "    return q * L ** 2 / 8 / H\n",
    "\n",
    "def Seillaenge(f, L):\n",
    "    return L + (8 * f **2) / (3 * L) - (32 * f **4) / (5 * L**3)\n",
    "\n",
    "f = Stich(10, 20, 200)\n",
    "s = Seillaenge(f, L)\n",
    "\n",
    "print(f\"Der Stich beträgt {f} m und die Seillänge {s} m\")"
   ]
  },
  {
   "attachments": {},
   "cell_type": "markdown",
   "metadata": {},
   "source": [
    "\n",
    "In bestimmten Fällen ist es wichtig den Seildurchhang zu begrenzen. Z.B. damit die Oberleitung hoch genug ist, damit kein LKW sie beim unterfahren abreist, oder bei Skiliften falls eine Aufhängung versagt aber die Gondel weiterhin nicht den Boden berühren soll.\n",
    "\n",
    "Um den Durchhang zu reduzieren muss entweder die Spannweite verringert, oder die Horizontale Kraft erhöht werden. \n",
    "\n",
    "Es soll eine Stromtrasse von $1000 m$ angelegt werden, dabei darf der Durchhang maximal $3 m$ betragen. Jede Stütze kostet $10.000 €$ und für jeden $1 kN$, den die Endauflage aufnehmen müssen kosten $500 €$. Die konstante Last $q$ beträgt $10 kN/m$.\n",
    "\n",
    "Berechnen Sie die Anzahl an Stützen, bei denen die Kosten am geringsten sind. Geben Sie die Kosten, den Stich, die H-Kraft und die Spannweite zwischen zwei Stützen aus."
   ]
  },
  {
   "attachments": {},
   "cell_type": "markdown",
   "metadata": {},
   "source": [
    "### Lösungshinweis\n",
    "Es kann davon ausgegangen werden, dass bei einer Spannweite von weniger als $10 m$ mit einem Unwirtschaftlichen Ergebnis zu rechnen ist."
   ]
  },
  {
   "cell_type": "code",
   "execution_count": 15,
   "metadata": {},
   "outputs": [
    {
     "name": "stdout",
     "output_type": "stream",
     "text": [
      "Kosten: 665220.39 €, Stützen: 45, Länge: 22.73 m, Kraft: 215.22 kN\n"
     ]
    }
   ],
   "source": [
    "f = 3\n",
    "q = 10\n",
    "gesamt_laenge = 1000\n",
    "\n",
    "def Kosten(stuetzen):\n",
    "    L = gesamt_laenge / (stuetzen - 1)\n",
    "    H = q * L ** 2 / 8 / f # Die umgestellte Funktion 'Stich'\n",
    "    k = stuetzen * 10000 + 2 * H * 500 # 2 * H da auf beiden Seiten Auflager sind\n",
    "    return k, L, H\n",
    "\n",
    "for stuetzen in range(2, 1000 // 10 + 2): # 2 Stützen sind immer vorhanden\n",
    "    k1, L, H = Kosten(stuetzen)\n",
    "    k2, _, _ = Kosten(stuetzen + 1) # Nur das erste Ergebnis ist wichtig\n",
    "    if k1 <= k2:\n",
    "       print(f\"Kosten: {k1:.2f} €, Stützen: {stuetzen}, Länge: {L:.2f} m, Kraft: {H:.2f} kN\")\n",
    "       break"
   ]
  }
 ],
 "metadata": {
  "kernelspec": {
   "display_name": "Python 3",
   "language": "python",
   "name": "python3"
  },
  "language_info": {
   "codemirror_mode": {
    "name": "ipython",
    "version": 3
   },
   "file_extension": ".py",
   "mimetype": "text/x-python",
   "name": "python",
   "nbconvert_exporter": "python",
   "pygments_lexer": "ipython3",
   "version": "3.10.10"
  },
  "orig_nbformat": 4
 },
 "nbformat": 4,
 "nbformat_minor": 2
}
