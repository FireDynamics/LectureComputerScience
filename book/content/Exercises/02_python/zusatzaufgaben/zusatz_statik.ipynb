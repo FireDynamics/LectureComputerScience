{
 "cells": [
  {
   "attachments": {},
   "cell_type": "markdown",
   "metadata": {},
   "source": [
    "# Seildurchhang\n",
    "\n",
    "![](zusatz_photos/Seil.svg)\n",
    "\n",
    "Beim Bauen mit Seilen muss man den Seildurchhang $f$ immer beachten. Dieser ist im idealisierten Fall abhängig von der Spannweite $L$, der auf das Seil wirkenden Kraft $q$ und den horizontalen Kräften $H$ an den Auflagern.\n",
    "\n",
    "$$\n",
    "f = \\frac{ q \\cdot L^2}{ 8 \\cdot H }\n",
    "$$\n",
    "\n",
    "Die tatsächliche Seillänge $S$ hängt vom Stich $f$ und der Spannweite $L$ ab.\n",
    "\n",
    "$$\n",
    "S = L + \\frac{8 \\cdot f^2}{3 \\cdot L} - \\frac{32 \\cdot f^4}{5 \\cdot L^3}\n",
    "$$\n",
    "\n",
    "## Aufgabenteil A\n",
    "\n",
    "Schreiben Sie zwei Funktionen, eine die den Stich und eine die die tatsächlich Seillänge ermittelt.  \n",
    "\n",
    "Ermitteln Sie für ein $q = 10~kN/m$, $L = 20~m$ und $H = 200~kN$ den Stich und die tatsächliche Seillänge.\n"
   ]
  },
  {
   "cell_type": "code",
   "execution_count": 16,
   "metadata": {
    "tags": [
     "hide-cell"
    ]
   },
   "outputs": [
    {
     "name": "stdout",
     "output_type": "stream",
     "text": [
      "Der Stich beträgt 2.50 m und die Seillänge 20.80 m\n"
     ]
    }
   ],
   "source": [
    "q = 10\n",
    "L = 20\n",
    "H = 200\n",
    "\n",
    "def stich(q, L, H):\n",
    "    return q * L ** 2 / 8 / H\n",
    "\n",
    "def seillaenge(f, L):\n",
    "    return L + (8 * f **2) / (3 * L) - (32 * f **4) / (5 * L**3)\n",
    "\n",
    "f = stich(10, 20, 200)\n",
    "s = seillaenge(f, L)\n",
    "\n",
    "print(f\"Der Stich beträgt {f:0.2f} m und die Seillänge {s:0.2f} m\")"
   ]
  },
  {
   "attachments": {},
   "cell_type": "markdown",
   "metadata": {},
   "source": [
    "## Aufgabenteil B\n",
    "In bestimmten Fällen ist es wichtig den Seildurchhang zu begrenzen. Ein Szenario wäre z.B. bei Skiliften zu verhindern, dass eine Gondel den Boden berührt, falls eine Aufhängung versagt.\n",
    "\n",
    "Um den Durchhang zu reduzieren muss entweder die Spannweite verringert, oder die Horizontale Kraft erhöht werden. \n",
    "\n",
    "Es soll eine Stromtrasse von $1000~m$ angelegt werden. Hierbei darf der Durchhang maximal $3~m$ betragen. Jede Stütze kostet $10.000$€ und für jedes $1~kN$, welches die Endauflager aufnehmen müssen, steigen die Kosten um $500$€. Die konstante Last $q$ beträgt $10~kN/m$.\n",
    "\n",
    "Berechnen Sie die Anzahl an Stützen, bei denen die Kosten am geringsten sind. Geben Sie die Kosten, den Stich, die H-Kraft und die Spannweite zwischen zwei Stützen aus."
   ]
  },
  {
   "attachments": {},
   "cell_type": "markdown",
   "metadata": {},
   "source": [
    "### Lösungshinweis\n",
    "Es kann davon ausgegangen werden, dass bei einer Spannweite von weniger als $10~m$ mit einem Unwirtschaftlichen Ergebnis zu rechnen ist."
   ]
  },
  {
   "attachments": {},
   "cell_type": "markdown",
   "metadata": {},
   "source": [
    "### Lösung"
   ]
  },
  {
   "cell_type": "code",
   "execution_count": 17,
   "metadata": {
    "tags": [
     "hide-cell"
    ]
   },
   "outputs": [
    {
     "name": "stdout",
     "output_type": "stream",
     "text": [
      "Kosten: 665220.39 €, Stützen: 45, Länge: 22.73 m, Kraft: 215.22 kN\n"
     ]
    }
   ],
   "source": [
    "f = 3\n",
    "q = 10\n",
    "gesamt_laenge = 1000\n",
    "\n",
    "def berechnung_kosten(stuetzen):\n",
    "    L = gesamt_laenge / (stuetzen - 1)\n",
    "    H = q * L ** 2 / 8 / f # Die umgestellte Funktion 'Stich'\n",
    "    k = stuetzen * 10000 + 2 * H * 500 # 2 * H da auf beiden Seiten Auflager sind\n",
    "    return k, L, H\n",
    "\n",
    "for stuetzen in range(2, 1000 // 10 + 2): # 2 Stützen sind immer vorhanden\n",
    "    k1, L, H = berechnung_kosten(stuetzen)\n",
    "    k2, _, _ = berechnung_kosten(stuetzen + 1) # Nur das erste Ergebnis ist wichtig\n",
    "    if k1 <= k2:\n",
    "       print(f\"Kosten: {k1:.2f} €, Stützen: {stuetzen}, Länge: {L:.2f} m, Kraft: {H:.2f} kN\")\n",
    "       break"
   ]
  },
  {
   "cell_type": "code",
   "execution_count": 18,
   "metadata": {
    "tags": [
     "hide-cell",
     "remove_input"
    ]
   },
   "outputs": [
    {
     "data": {
      "image/png": "[encoded data removed]",
      "text/plain": [
       "<Figure size 800x400 with 1 Axes>"
      ]
     },
     "metadata": {},
     "output_type": "display_data"
    }
   ],
   "source": [
    "import matplotlib.pyplot as plt\n",
    "\n",
    "stuetzen = list(range(2, 1000 // 10 + 2))\n",
    "kosten = []\n",
    "for s in stuetzen:\n",
    "    k, _, _ = berechnung_kosten(s)\n",
    "    kosten.append(k)\n",
    "\n",
    "plt.figure(figsize=(8,4))\n",
    "plt.plot(stuetzen, kosten, \".\")\n",
    "plt.semilogy()\n",
    "plt.title(label=\"Kostenentwicklung\")\n",
    "plt.xlabel(\"Anzahl Stützen\")\n",
    "plt.ylabel(\"Kosten [€]\")\n",
    "plt.ylim(10**5, 10**7)\n",
    "plt.xlim(0, 1000 // 10 + 2)\n",
    "plt.grid(which = \"both\")\n",
    "plt.xticks(range(0, 1000 // 10 + 2, 5))\n",
    "plt.show()"
   ]
  }
 ],
 "metadata": {
  "kernelspec": {
   "display_name": "Python 3",
   "language": "python",
   "name": "python3"
  },
  "language_info": {
   "codemirror_mode": {
    "name": "ipython",
    "version": 3
   },
   "file_extension": ".py",
   "mimetype": "text/x-python",
   "name": "python",
   "nbconvert_exporter": "python",
   "pygments_lexer": "ipython3",
   "version": "3.11.3"
  },
  "orig_nbformat": 4
 },
 "nbformat": 4,
 "nbformat_minor": 2
}
