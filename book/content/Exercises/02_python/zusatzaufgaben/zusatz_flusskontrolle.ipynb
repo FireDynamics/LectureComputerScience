{
 "cells": [
  {
   "cell_type": "markdown",
   "metadata": {
    "tags": [
     "remove-cell"
    ]
   },
   "source": [
    "<div style=\"width: 100%; overflow: hidden;\">\n",
    "    <div style=\"width: 500px; float: left;\"> \n",
    "        <h1>Ingenieurinformatik – Übung</h1>\n",
    "        Lehrstuhl <b>Computational Civil Engineering</b><br>\n",
    "        Kontakt: <a href = \"mailto: cce-inginf@uni-wuppertal.de\">Email senden</a> | Individuelle Kontakte siehe Webseite des Lehrstuhls<br>\n",
    "        Links: \n",
    "        <a href=\"cce.uni-wuppertal.de/inginf\">Vorlesungsskript</a> | \n",
    "        <a href=\"cce.uni-wuppertal.de/\">Webseite des Lehrstuhls</a>\n",
    "    </div>\n",
    "    <div style=\"float:right;\"> \n",
    "        <img src=\"logo_cce_combined.png\" style=\"width:150px;\"/>\n",
    "    </div>\n",
    "</div>"
   ]
  },
  {
   "cell_type": "markdown",
   "metadata": {},
   "source": [
    "# Flusskontrolle"
   ]
  },
  {
   "cell_type": "markdown",
   "metadata": {},
   "source": [
    "## Schaltjahr\n",
    "Um zu ermitteln, ob ein Jahr ein Schaltjahr ist, gibt es 3 Regelungen.\n",
    "- Ein Jahr ist ein Schaltjahr, wenn die Jahreszahl restlos durch 4 teilbar ist.\n",
    "- Ein Jahr ist kein Schaltjahr, wenn es durch 4 und 100 restlos teilbar ist.\n",
    "- Ein Jahr ist ein Schaltjahr, wenn es sowohl durch 4, durch 100 und durch 400 teilbar ist."
   ]
  },
  {
   "cell_type": "markdown",
   "metadata": {},
   "source": [
    "### Aufgabenteil A\n",
    "Erstellen Sie ein Flussdiagramm, das **j** als Jahreszahl entgegen nimmt und als Rückgabe entweder `True` oder `False` ausgibt, je nach dem ob es sich um ein Schaltjahr handelt oder nicht\n",
    "\n",
    "### Lösung"
   ]
  },
  {
   "cell_type": "markdown",
   "metadata": {
    "tags": [
     "hide-cell"
    ]
   },
   "source": [
    "![](zusatz_photos/Flussdiagram_Schaltjahr.png)"
   ]
  },
  {
   "cell_type": "markdown",
   "metadata": {},
   "source": [
    "### Aufgabenteil B\n",
    "Handelt es sich bei den Jahren 1800, 1996, 1997, 2000, 2016 um ein Schaltjahr?\n",
    "### Lösung"
   ]
  },
  {
   "cell_type": "markdown",
   "metadata": {
    "tags": [
     "hide-cell"
    ]
   },
   "source": [
    "|Jahr|Ist Schaltjahr|\n",
    "|----|--------------|\n",
    "|1800|`False`       |\n",
    "|1996|`True`        |\n",
    "|1997|`False`       |\n",
    "|2000|`True`        |\n",
    "|2016|`False`       |"
   ]
  },
  {
   "cell_type": "markdown",
   "metadata": {},
   "source": [
    "### Aufgabenteil C\n",
    "Überfuhren sie das Flussdiagramm in ein Python Programm\n",
    "### Lösung"
   ]
  },
  {
   "cell_type": "code",
   "execution_count": 1,
   "metadata": {
    "tags": [
     "hide-cell"
    ]
   },
   "outputs": [],
   "source": [
    "def ist_schaltjahr(jahr):\n",
    "    if jahr % 4 == 0:\n",
    "        if jahr % 100 == 0:\n",
    "            if jahr % 400 == 0:\n",
    "                return True\n",
    "            else:\n",
    "                return False\n",
    "        else:\n",
    "            return True\n",
    "    else:\n",
    "        return False"
   ]
  },
  {
   "cell_type": "markdown",
   "metadata": {},
   "source": [
    "### Augabenteil D\n",
    "Wie viele Tage ein Monat hat, hängt immer vom jeweiligen Monat selbst ab und im Falle vom Februar auch vom Jahr. Schreiben Sie eine weitere Funktion, die **tag**, **monat** und **jahr** entgegen nimmt und anschließend `True` oder `False` zurück gibt, je nach dem ob es sich um ein valides Datum handelt. Benutzen Sie dazu die zuvor geschriebene Methode.\n",
    "### Lösung\n"
   ]
  },
  {
   "cell_type": "code",
   "execution_count": 2,
   "metadata": {},
   "outputs": [],
   "source": [
    "def datum_valide(tag, monat, jahr):\n",
    "    if tag < 1 or monat < 1 or monat > 12:\n",
    "        return False\n",
    "\n",
    "    if monat == 2:\n",
    "        if ist_schaltjahr(jahr):\n",
    "            if tag > 29:\n",
    "                return False\n",
    "        else:\n",
    "            if tag > 28:\n",
    "                return False\n",
    "    elif monat in [4, 6, 9, 11]:\n",
    "        if tag > 30:\n",
    "            return False\n",
    "    else:\n",
    "        if tag > 31:\n",
    "            return False\n",
    "\n",
    "    return True"
   ]
  },
  {
   "cell_type": "markdown",
   "metadata": {},
   "source": [
    "## Wechselgeld\n",
    "Schreiben Sie eine Funktion, die einen Preis und einen bezahlten Geldbetrag entgegen nimmt, das zurückzuzahlende Wechselgeld berechnet und ausgibt, welche Scheine und Münzen zurück gegeben werden müssen, sodass die Anzahl der zurückgegebenen Scheine und Münzen minimal ist. Rechnen Sie mit Integern und ignorieren Sie Centbeträge."
   ]
  },
  {
   "cell_type": "markdown",
   "metadata": {},
   "source": [
    "### Lösung"
   ]
  },
  {
   "cell_type": "code",
   "execution_count": 3,
   "metadata": {
    "tags": [
     "hide-cell"
    ]
   },
   "outputs": [
    {
     "name": "stdout",
     "output_type": "stream",
     "text": [
      "200€: 0\n",
      "100€: 0\n",
      " 50€: 1\n",
      " 20€: 1\n",
      " 10€: 0\n",
      "  5€: 0\n",
      "  2€: 1\n",
      "  1€: 1\n"
     ]
    }
   ],
   "source": [
    "def berechne_wechselgeld(preis, bezahlt):\n",
    "    wechselgeld = bezahlt - preis\n",
    "    for banknote in [200, 100, 50, 20, 10, 5, 2, 1]:\n",
    "        print(f'{banknote:3d}€:', wechselgeld // banknote)\n",
    "        wechselgeld = wechselgeld % banknote\n",
    "        \n",
    "berechne_wechselgeld(127, 200)"
   ]
  },
  {
   "cell_type": "markdown",
   "metadata": {},
   "source": [
    "## Einstellige Quersumme\n",
    "Schreiben Sie eine Funktion, die die einstellige Quersumme für eine übergebene natürliche Zahl berechnet. Um die einstellige Quersumme zu berechnen, bilden sie so lange die Quersumme der Quersumme der Quersumme etc. einer Zahl, bis das Ergebnis zwischen 1 und 9 liegt."
   ]
  },
  {
   "cell_type": "markdown",
   "metadata": {},
   "source": [
    "### Lösung"
   ]
  },
  {
   "cell_type": "code",
   "execution_count": 4,
   "metadata": {
    "tags": [
     "hide-input"
    ]
   },
   "outputs": [],
   "source": [
    "def zaehl_ziffern(zahl):\n",
    "    '''Berechnet die Anzahl der Ziffern des übergebenen Integers'''\n",
    "    ziffern_anzahl = 0\n",
    "    while zahl // 10 != 0:\n",
    "        zahl //= 10\n",
    "        ziffern_anzahl += 1\n",
    "    return ziffern_anzahl\n",
    "\n",
    "def quersumme(zahl):\n",
    "    quersumme = 0\n",
    "    ziffern_anzahl = zaehl_ziffern(zahl)\n",
    "    for dezimalstelle in range(ziffern_anzahl, -1, -1):\n",
    "        quersumme += zahl // (10**dezimalstelle)\n",
    "        zahl %= 10**dezimalstelle\n",
    "    return quersumme\n",
    "    \n",
    "def einstellige_quersumme(zahl):\n",
    "    einst_quersumme = zahl\n",
    "    while einst_quersumme > 9:\n",
    "        einst_quersumme = quersumme(einst_quersumme)\n",
    "    return einst_quersumme\n",
    "\n",
    "# manche Probleme können auch rekursiv gelöst werden, was bedeutet, dass die ausführende Funktion sich selbst aufruft:\n",
    "def einstellige_quersumme_rekursiv(zahl):\n",
    "    einst_quersumme = quersumme(zahl)\n",
    "    if einst_quersumme > 9:\n",
    "        einst_quersumme = einstellige_quersumme_rekursiv(einst_quersumme)\n",
    "    return einst_quersumme"
   ]
  },
  {
   "cell_type": "markdown",
   "metadata": {},
   "source": [
    "## Pythagoras\n",
    "Schreiben Sie ein Programm, dass alle Integer Triplets $a, b, c$ zwichen 1 und einer beliebigen Grenze findet, die die Gleichung\n",
    "\\begin{equation}\n",
    "    a² + b² =c²\n",
    "\\end{equation}\n",
    "erfüllen.\n",
    "Was ist die Komplexität des Algorithmus? Spielen Sie ein bisschen mit der Grenze und achten Sie auf die Laufzeit ihres Programms um ein Gefühl dafür zu bekommen, was Komplexität bedeutet."
   ]
  },
  {
   "cell_type": "markdown",
   "metadata": {
    "tags": []
   },
   "source": [
    "### Lösung"
   ]
  },
  {
   "cell_type": "code",
   "execution_count": 5,
   "metadata": {
    "tags": [
     "hide-cell"
    ]
   },
   "outputs": [
    {
     "name": "stdout",
     "output_type": "stream",
     "text": [
      "3² + 4² = 5²\n",
      "4² + 3² = 5²\n",
      "6² + 8² = 10²\n",
      "8² + 6² = 10²\n"
     ]
    }
   ],
   "source": [
    "def ist_pythagoreisches_trippel(a, b, c):\n",
    "    if a**2+b**2 == c**2:\n",
    "        return True\n",
    "    return False\n",
    "\n",
    "grenze = 11\n",
    "\n",
    "for a in range(1, grenze):\n",
    "    for b in range(1, grenze):\n",
    "        for c in range(1, grenze):\n",
    "            if ist_pythagoreisches_trippel(a, b, c):\n",
    "                print(f'{a}² + {b}² = {c}²')"
   ]
  },
  {
   "cell_type": "markdown",
   "metadata": {},
   "source": [
    "```{toggle}\n",
    "Die Komplexität des obigen Algorithmus ist $n^3$.\n",
    "```"
   ]
  },
  {
   "cell_type": "markdown",
   "metadata": {
    "tags": []
   },
   "source": [
    "## Spannungs-Dehnungs-Diagramm\n",
    "Führt man mit Stahl einen Strecktest durch so erhält man folgendes idealisiertes Diagramm:\n",
    "![](zusatz_photos/Spannungs-Dehnungslinie.png)  \n",
    "Dabei sind volgende Stellen von Bedeutung:\n",
    "1. Obere Streckgrenze\n",
    "2. Untere Streckgrenze\n",
    "3. Einschnürungspunkt\n",
    "4. Bruch\n",
    "\n",
    "Für die folgende Aufgabe soll nur von idealisierten Werten ausgegangen werden."
   ]
  },
  {
   "cell_type": "markdown",
   "metadata": {
    "tags": []
   },
   "source": [
    "### Aufgabenteil A\n",
    "Erstellen Sie ein Flussdiagramm das sigma = σ [ 𝑁/𝑚𝑚2 ] als Liste entgegen nimmt und anhand dieser die Spannung der oberen Steckgrenze ermittelt und ausgibt.\n",
    "### Lösung"
   ]
  },
  {
   "cell_type": "markdown",
   "metadata": {
    "tags": [
     "hide-cell"
    ]
   },
   "source": [
    "![](zusatz_photos/Flussdiagram_Stahl_einfach.png)"
   ]
  },
  {
   "cell_type": "markdown",
   "metadata": {},
   "source": [
    "### Aufgabenteil B\n",
    "Überführen Sie das Flussdiagramm in ein Python Programm.\n",
    "### Lösung"
   ]
  },
  {
   "cell_type": "code",
   "execution_count": 6,
   "metadata": {
    "tags": [
     "hide-cell"
    ]
   },
   "outputs": [],
   "source": [
    "def obere_streckgrenze(sigma):\n",
    "    s1 = sigma[0]\n",
    "    for s in sigma:\n",
    "        if s < s1:\n",
    "            return s1\n",
    "        else:\n",
    "            s1 = s"
   ]
  },
  {
   "cell_type": "markdown",
   "metadata": {},
   "source": [
    "### Aufgabenteil C\n",
    "Erstellen Sie ein Flussdiagramm das **sigma** = σ [ $N/mm^2$ ] als Liste entgegen nimmt und anhand dieser alle relevanten Spannungen ausgibt.\n",
    "### Lösung"
   ]
  },
  {
   "cell_type": "markdown",
   "metadata": {
    "tags": [
     "hide-cell"
    ]
   },
   "source": [
    "![](zusatz_photos/Flussdiagram_Stahl_ausfuehrlich.png)"
   ]
  },
  {
   "cell_type": "markdown",
   "metadata": {},
   "source": [
    "### Aufgabenteil D\n",
    "Überführen Sie das neue Flussdiagramm in ein Python Programm.\n",
    "### Lösung"
   ]
  },
  {
   "cell_type": "code",
   "execution_count": 7,
   "metadata": {
    "tags": [
     "hide-cell"
    ]
   },
   "outputs": [],
   "source": [
    "def relevante_werte(sigma):\n",
    "    n = len(sigma)\n",
    "    s1 = sigma[0]\n",
    "    i = 1\n",
    "    while i < n:\n",
    "        s2 = sigma[i]\n",
    "        i += 1\n",
    "        if s2 < s1:\n",
    "            break\n",
    "        else:\n",
    "            s1 = s2\n",
    "            \n",
    "    while i < n:\n",
    "        s3 = sigma[i]\n",
    "        i += 1\n",
    "        if s3 > s2:\n",
    "            break\n",
    "        else:\n",
    "            s2 = s3\n",
    "            \n",
    "    while i < n:\n",
    "        s4 = sigma[i]\n",
    "        i += 1\n",
    "        if s4 < s3:\n",
    "            s4 = sigma[-1]\n",
    "            return s1, s2, s3, s4\n",
    "        else:\n",
    "            s3 = s4"
   ]
  }
 ],
 "metadata": {
  "celltoolbar": "Tags",
  "kernelspec": {
   "display_name": "Python 3 (ipykernel)",
   "language": "python",
   "name": "python3"
  },
  "language_info": {
   "codemirror_mode": {
    "name": "ipython",
    "version": 3
   },
   "file_extension": ".py",
   "mimetype": "text/x-python",
   "name": "python",
   "nbconvert_exporter": "python",
   "pygments_lexer": "ipython3",
   "version": "3.10.10"
  }
 },
 "nbformat": 4,
 "nbformat_minor": 4
}
