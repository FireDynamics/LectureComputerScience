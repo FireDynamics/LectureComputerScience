{
 "cells": [
  {
   "cell_type": "markdown",
   "id": "a4da169d-0317-491c-8a5a-1b9091cecf88",
   "metadata": {},
   "source": [
    "<div style=\"width: 100%; overflow: hidden;\">\n",
    "    <div style=\"width: 500px; float: left;\"> \n",
    "        <h1>Ingenieurinformatik – Übung</h1>\n",
    "        Lehrstuhl <b>Computational Civil Engineering</b><br>\n",
    "        Kontakt: <a href = \"mailto: cce-inginf@uni-wuppertal.de\">Email senden</a> | Individuelle Kontakte siehe Webseite des Lehrstuhls<br>\n",
    "        Links: \n",
    "        <a href=\"cce.uni-wuppertal.de/inginf\">Vorlesungsskript</a> | \n",
    "        <a href=\"cce.uni-wuppertal.de/\">Webseite des Lehrstuhls</a>\n",
    "    </div>\n",
    "    <div style=\"float:right;\"> \n",
    "        <img src=\"logo_cce_combined.png\" style=\"width:150px;\"/>\n",
    "    </div>\n",
    "</div>"
   ]
  },
  {
   "cell_type": "markdown",
   "id": "8d87e1b5-f405-413e-af0d-7ed19db37279",
   "metadata": {},
   "source": [
    "## Addition von Listen\n",
    "Das folgende Programm soll zwei Listen elementweise addieren und anschließend den\n",
    "maximalen Wert ausgeben. JedocEngineeringh hat sich in dem Programm ein Fehler eingeschlichen\n",
    "und es wird ein falscher Wert ausgegeben."
   ]
  },
  {
   "cell_type": "code",
   "execution_count": 5,
   "id": "159bf01f-905d-4f72-85c0-9e5d0012de91",
   "metadata": {
    "tags": []
   },
   "outputs": [
    {
     "name": "stdout",
     "output_type": "stream",
     "text": [
      "Der maximale Wert beträgt: 8\n"
     ]
    }
   ],
   "source": [
    "liste1 = [1, 2, 3, 4]\n",
    "liste2 = [5, 6, 7, 8]\n",
    "\n",
    "addition = liste1 + liste2\n",
    "\n",
    "maximaler_wert = max(addition)\n",
    "\n",
    "print(\"Der maximale Wert beträgt:\", maximaler_wert)"
   ]
  },
  {
   "cell_type": "markdown",
   "id": "57e12537-649b-4cde-af93-973be8921753",
   "metadata": {
    "tags": []
   },
   "source": [
    "1. Ermitteln Sie den richtigen Rückgabewert.\n",
    "2. Beschreiben Sie den Grund für den Fehler\n",
    "3. Bearbeiten Sie das Programm so, dass der richtige Wert ausgegeben wird.\n",
    "### Lösung"
   ]
  },
  {
   "cell_type": "markdown",
   "id": "01b9c3d7-6df1-4479-90ca-8cc8681efc7f",
   "metadata": {
        "tags": [
            "hide-cell"
        ]
    },
   "source": [
    "1. 12\n",
    "2. Die standard Python Listen werden durch den Plus Operator nicht elementweise addiert\n",
    "sondern verbunden.\n",
    "3. Wie folgt:"
   ]
  },
  {
   "cell_type": "code",
   "execution_count": 6,
   "id": "d9c1a795-0273-4caa-bf52-d5210bf67193",
   "metadata": {
        "tags": [
            "hide-cell"
        ]
    },
   "outputs": [
    {
     "name": "stdout",
     "output_type": "stream",
     "text": [
      "Der maximale Wert beträgt: 12\n"
     ]
    }
   ],
   "source": [
    "import numpy as np\n",
    "\n",
    "list1 = np.array([1, 2, 3, 4])\n",
    "list2 = np.array([5, 6, 7, 8])\n",
    "\n",
    "addition = list1 + list2\n",
    "\n",
    "maximaler_wert = max(addition)\n",
    "\n",
    "print(\"Der maximale Wert beträgt:\", maximaler_wert)"
   ]
  }
 ],
 "metadata": {
  "kernelspec": {
   "display_name": "Python 3 (ipykernel)",
   "language": "python",
   "name": "python3"
  },
  "language_info": {
   "codemirror_mode": {
    "name": "ipython",
    "version": 3
   },
   "file_extension": ".py",
   "mimetype": "text/x-python",
   "name": "python",
   "nbconvert_exporter": "python",
   "pygments_lexer": "ipython3",
   "version": "3.10.9"
  }
 },
 "nbformat": 4,
 "nbformat_minor": 5
}
