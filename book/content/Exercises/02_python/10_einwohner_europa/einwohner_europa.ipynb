{
 "cells": [
  {
   "cell_type": "markdown",
   "metadata": {
    "tags": [
     "remove_cell"
    ]
   },
   "source": [
    "<div style=\"width: 100%; overflow: hidden;\">\n",
    "    <div style=\"width: 500px; float: left;\"> \n",
    "        <h1>Ingenieurinformatik – Übung</h1>\n",
    "        Lehrstuhl <b>Computational Civil Engineering</b><br>\n",
    "        Kontakt: <a href = \"mailto: cce-inginf@uni-wuppertal.de\">Email senden</a> | Individuelle Kontakte siehe Webseite des Lehrstuhls<br>\n",
    "        Links: \n",
    "        <a href=\"cce.uni-wuppertal.de/inginf\">Vorlesungsskript</a> | \n",
    "        <a href=\"cce.uni-wuppertal.de/\">Webseite des Lehrstuhls</a>\n",
    "    </div>\n",
    "    <div style=\"float:right;\"> \n",
    "        <img src=\"logo_cce_combined.png\" style=\"width:150px;\"/>\n",
    "    </div>\n",
    "</div>"
   ]
  },
  {
   "cell_type": "markdown",
   "metadata": {},
   "source": [
    "# Einwohnerzahl Europa"
   ]
  },
  {
   "cell_type": "markdown",
   "metadata": {},
   "source": [
    "Bei dieser Aufgabe werden Sie sowohl Schleifen als auch Verzweigungen nutzen, um Daten aus einer Datei auszulesen und in sinvolle Datentypen abzuspeichern. In der Bonusaufgabe werden Sie einen Filter auf die Daten anwenden und eine Berechnung mit ihnen durchführen.<br>\n",
    "\n",
    "Die in dieser Aufgabe verwendete Datei finden Sie {download}`hier <./einwohner_europa_2019.csv>`."
   ]
  },
  {
   "cell_type": "markdown",
   "metadata": {},
   "source": [
    "## Aufgabenteil A – Auslesen der Datei"
   ]
  },
  {
   "cell_type": "markdown",
   "metadata": {},
   "source": [
    "Schreiben Sie ein Programm, dass den Inhalt der Datei `einwohner_europa_2019.csv` ausließt und ausgibt."
   ]
  },
  {
   "cell_type": "markdown",
   "metadata": {
    "tags": [
     "loesung",
     "hide_cell",
     "remove_cell"
    ]
   },
   "source": [
    "### Lösungsvorschlag"
   ]
  },
  {
   "cell_type": "code",
   "execution_count": 1,
   "metadata": {
    "tags": [
     "loesung",
     "hide_cell",
     "remove_cell"
    ]
   },
   "outputs": [
    {
     "name": "stdout",
     "output_type": "stream",
     "text": [
      "GEO,Value\n",
      "\n",
      "Belgien,11467923\n",
      "\n",
      "Bulgarien,7000039\n",
      "\n",
      "Tschechien,10528984\n",
      "\n",
      "Daenemark,5799763\n",
      "\n",
      "Deutschland einschliesslich ehemalige DDR,82940663\n",
      "\n",
      "Estland,1324820\n",
      "\n",
      "Irland,4904240\n",
      "\n",
      "Griechenland,10722287\n",
      "\n",
      "Spanien,46934632\n",
      "\n",
      "Frankreich,67028048\n",
      "\n",
      "Kroatien,4076246\n",
      "\n",
      "Italien,61068437\n",
      "\n",
      "Zypern,875898\n",
      "\n",
      "Lettland,1919968\n",
      "\n",
      "Litauen,2794184\n",
      "\n",
      "Luxemburg,612179\n",
      "\n",
      "Uganda,-1\n",
      "\n",
      "Ungarn,9772756\n",
      "\n",
      "Malta,493559\n",
      "\n",
      "Niederlande,17423013\n",
      "\n",
      "Oesterreich,8842000\n",
      "\n",
      "Polen,37972812\n",
      "\n",
      "Portugal,10276617\n",
      "\n",
      "Rumaenien,19405156\n",
      "\n",
      "Slowenien,2080908\n",
      "\n",
      "Slowakei,5450421\n",
      "\n",
      "Finnland,5512119\n",
      "\n",
      "Schweden,10243000\n",
      "\n",
      "Vereinigtes Koenigreich,66647112\n",
      "\n"
     ]
    }
   ],
   "source": [
    "# Auslesen und Ausgeben einer Datei\n",
    "\n",
    "file = open('einwohner_europa_2019.csv', 'r')\n",
    "\n",
    "for line in file:\n",
    "    print(line)"
   ]
  },
  {
   "cell_type": "markdown",
   "metadata": {},
   "source": [
    "### Aufgabenteil B – Speichern in Listen"
   ]
  },
  {
   "cell_type": "markdown",
   "metadata": {},
   "source": [
    "Verändern Sie obiges Programm, sodass die ausgelesenen Daten nicht mehr ausgegeben, sondern in zwei Listen gespeichert werden. Die Erste Zeile soll hierbei ignoriert werden. Die Liste mit den Einwohnern soll Zahlen anstelle von Strings enthalten."
   ]
  },
  {
   "cell_type": "markdown",
   "metadata": {},
   "source": [
    "### Lösungshinweis\n",
    "\n",
    "Benutzen Sie eine Bool-Variable um zu überprüfen, ob Sie gerade die erste Zeile der Datei auslesen. Alternativ können Sie mit der `pop`-Methode von Listen Elemente an einer bestimmten Position löschen."
   ]
  },
  {
   "cell_type": "markdown",
   "metadata": {
    "tags": [
     "loesung",
     "hide_cell",
     "remove_cell"
    ]
   },
   "source": [
    "### Lösungsvorschlag I"
   ]
  },
  {
   "cell_type": "code",
   "execution_count": 2,
   "metadata": {
    "tags": [
     "loesung",
     "hide_cell",
     "remove_cell"
    ]
   },
   "outputs": [
    {
     "name": "stdout",
     "output_type": "stream",
     "text": [
      "['Belgien', 'Bulgarien', 'Tschechien', 'Daenemark', 'Deutschland einschliesslich ehemalige DDR', 'Estland', 'Irland', 'Griechenland', 'Spanien', 'Frankreich', 'Kroatien', 'Italien', 'Zypern', 'Lettland', 'Litauen', 'Luxemburg', 'Uganda', 'Ungarn', 'Malta', 'Niederlande', 'Oesterreich', 'Polen', 'Portugal', 'Rumaenien', 'Slowenien', 'Slowakei', 'Finnland', 'Schweden', 'Vereinigtes Koenigreich']\n",
      "[11467923, 7000039, 10528984, 5799763, 82940663, 1324820, 4904240, 10722287, 46934632, 67028048, 4076246, 61068437, 875898, 1919968, 2794184, 612179, -1, 9772756, 493559, 17423013, 8842000, 37972812, 10276617, 19405156, 2080908, 5450421, 5512119, 10243000, 66647112]\n"
     ]
    }
   ],
   "source": [
    "# Auslesen einer Datei und Speichern in Listen\n",
    "\n",
    "laender = []\n",
    "bevoelkerungen = []\n",
    "erste_zeile = True\n",
    "file = open('einwohner_europa_2019.csv', 'r')\n",
    "\n",
    "# Speichern der Datei in zwei Listen\n",
    "for line in file:\n",
    "    \n",
    "    # Überprüfung, ob das Programm gerade die erste Zeile der Datei ausließt\n",
    "    if not erste_zeile:\n",
    "\n",
    "        # Aufteilen der Zeile in zwei Variablen\n",
    "        [land, einwohner] = line.split(',')\n",
    "\n",
    "        # Konvertierung in einen Integer\n",
    "        einwohner = int(einwohner)\n",
    "\n",
    "        # Erweiterung der Listen um die beiden Elemente der aktuell ausgelesenen Zeile\n",
    "        laender.append(land)\n",
    "        bevoelkerungen.append(int(einwohner))\n",
    "    \n",
    "    else:\n",
    "        erste_zeile = False\n",
    "        \n",
    "print(laender)\n",
    "print(bevoelkerungen)\n",
    "\n",
    "file.close()"
   ]
  },
  {
   "cell_type": "markdown",
   "metadata": {
    "tags": [
     "loesung",
     "hide_cell",
     "remove_cell"
    ]
   },
   "source": [
    "### Lösungsvorschlag II"
   ]
  },
  {
   "cell_type": "code",
   "execution_count": 3,
   "metadata": {
    "tags": [
     "loesung",
     "hide_cell",
     "remove_cell"
    ]
   },
   "outputs": [
    {
     "name": "stdout",
     "output_type": "stream",
     "text": [
      "['Belgien', 'Bulgarien', 'Tschechien', 'Daenemark', 'Deutschland einschliesslich ehemalige DDR', 'Estland', 'Irland', 'Griechenland', 'Spanien', 'Frankreich', 'Kroatien', 'Italien', 'Zypern', 'Lettland', 'Litauen', 'Luxemburg', 'Uganda', 'Ungarn', 'Malta', 'Niederlande', 'Oesterreich', 'Polen', 'Portugal', 'Rumaenien', 'Slowenien', 'Slowakei', 'Finnland', 'Schweden', 'Vereinigtes Koenigreich']\n",
      "[11467923, 7000039, 10528984, 5799763, 82940663, 1324820, 4904240, 10722287, 46934632, 67028048, 4076246, 61068437, 875898, 1919968, 2794184, 612179, -1, 9772756, 493559, 17423013, 8842000, 37972812, 10276617, 19405156, 2080908, 5450421, 5512119, 10243000, 66647112]\n"
     ]
    }
   ],
   "source": [
    "# Auslesen einer Datei und Speichern in Listen\n",
    "\n",
    "laender = []\n",
    "einwohner = []\n",
    "file = open('einwohner_europa_2019.csv', 'r')\n",
    "\n",
    "# Speichern der Datei in zwei Listen\n",
    "for line in file:\n",
    "    laender.append(line.split(',')[0])\n",
    "    einwohner.append(line.split(',')[1])\n",
    "    \n",
    "# Entfernen des ersten Elements beider Listen\n",
    "laender.pop(0)\n",
    "einwohner.pop(0)\n",
    "\n",
    "# Konvertieren der Elemente in Einwohner in Integers\n",
    "for i in range(0,len(einwohner)):\n",
    "    einwohner[i] = int(einwohner[i])\n",
    "    \n",
    "print(laender)\n",
    "print(einwohner)\n",
    "\n",
    "file.close()"
   ]
  },
  {
   "cell_type": "markdown",
   "metadata": {},
   "source": [
    "## Aufgabenteil C – Filtern und Verwenden – Optional\n",
    "\n",
    "Erweitern Sie Ihr Programm, sodass Länder, die eine negative Einwohnerzahl haben, aus beiden Listen gelöscht werden. Addieren Sie danach alle Einwohner, um die gesammte Einwohnerzahl aller EU-Staaten zu erhalten und geben sie das Ergebnis in Millionen aus."
   ]
  },
  {
   "cell_type": "markdown",
   "metadata": {},
   "source": [
    "### Lösungshinweis\n",
    "\n",
    "Falls Sie beim Löschen auf einen `out-of-range IndexError` treffen, überlegen Sie sich, warum dies passiert und ob Sie vielleicht mit einer anderen Schleifenart das Problem umgehen können."
   ]
  },
  {
   "cell_type": "markdown",
   "metadata": {
    "tags": [
     "loesung",
     "hide_cell",
     "remove_cell"
    ]
   },
   "source": [
    "### Lösungsvorschlag"
   ]
  },
  {
   "cell_type": "code",
   "execution_count": 4,
   "metadata": {
    "tags": [
     "loesung",
     "hide_cell",
     "remove_cell"
    ]
   },
   "outputs": [
    {
     "name": "stdout",
     "output_type": "stream",
     "text": [
      "Die gesammte EU-Bevölkerung in 2019 waren ungefähr 514.12 Millionen Personen.\n"
     ]
    }
   ],
   "source": [
    "# Auswerten von Daten\n",
    "\n",
    "laender = []\n",
    "einwohner = []\n",
    "file = open('einwohner_europa_2019.csv', 'r')\n",
    "\n",
    "# Speichern der Datei in zwei Listen\n",
    "for line in file:\n",
    "    laender.append(line.split(',')[0])\n",
    "    einwohner.append(line.split(',')[1])\n",
    "    \n",
    "# Entfernen des ersten Elements beider Listen\n",
    "laender.pop(0)\n",
    "einwohner.pop(0)\n",
    "\n",
    "# Konvertieren der Elemente in Einwohner in Integers\n",
    "for i in range(0,len(einwohner)):\n",
    "    einwohner[i] = int(einwohner[i])\n",
    "    \n",
    "# Entfernen von Ausreißern\n",
    "i = 0\n",
    "while i < len(einwohner):\n",
    "    if einwohner[i] < 0:\n",
    "        einwohner.pop(i)\n",
    "        laender.pop(i)\n",
    "    i += 1\n",
    "    \n",
    "# Berechnung der gesammten EU-Bevölkerung\n",
    "gesammtBev = 0\n",
    "for i in einwohner:\n",
    "    gesammtBev += i\n",
    "    \n",
    "print(f'Die gesammte EU-Bevölkerung in 2019 waren ungefähr {gesammtBev/10**6:.2f} Millionen Personen.')\n",
    "\n",
    "file.close()"
   ]
  },
  {
   "cell_type": "markdown",
   "metadata": {},
   "source": [
    "## Aufgabenteil D\n",
    "\n",
    "Plotten Sie nun die Bevölkerungszahlen (y-Achse) für die entsprechenden Länder (x-Achse). Fügen Sie Achsen-Beschriftungen hinzu. Berechnen Sie den Mittelwert aller Bevölkerungszahlen und Ploten Sie diesen als gestrichelte rote Linie.\n",
    "Hinweis:\n",
    "* Um die Ländernamen besser lesen zu können, soll die Beschriftung um 90 grad gedreht werden.\n",
    "* Wenn Sie plt.bar() anstelle von plt.plot() verwenden, erhalten Sie ein Balkendiagramm."
   ]
  },
  {
   "cell_type": "markdown",
   "metadata": {
    "tags": [
     "loesung",
     "hide_cell",
     "remove_cell"
    ]
   },
   "source": [
    "### Lösungsvorschlag"
   ]
  },
  {
   "cell_type": "code",
   "execution_count": 6,
   "metadata": {
    "tags": [
     "loesung",
     "hide_cell",
     "remove_cell"
    ]
   },
   "outputs": [
    {
     "name": "stdout",
     "output_type": "stream",
     "text": [
      "['Belgien', 'Bulgarien', 'Tschechien', 'Daenemark', 'Deutschland einschliesslich ehemalige DDR', 'Estland', 'Irland', 'Griechenland', 'Spanien', 'Frankreich', 'Kroatien', 'Italien', 'Zypern', 'Lettland', 'Litauen', 'Luxemburg', 'Ungarn', 'Malta', 'Niederlande', 'Oesterreich', 'Polen', 'Portugal', 'Rumaenien', 'Slowenien', 'Slowakei', 'Finnland', 'Schweden', 'Vereinigtes Koenigreich']\n",
      "[11467923, 7000039, 10528984, 5799763, 82940663, 1324820, 4904240, 10722287, 46934632, 67028048, 4076246, 61068437, 875898, 1919968, 2794184, 612179, 9772756, 493559, 17423013, 8842000, 37972812, 10276617, 19405156, 2080908, 5450421, 5512119, 10243000, 66647112]\n"
     ]
    },
    {
     "data": {
      "image/png": "[encoded data removed]",
      "text/plain": [
       "<Figure size 432x288 with 1 Axes>"
      ]
     },
     "metadata": {
      "needs_background": "light"
     },
     "output_type": "display_data"
    }
   ],
   "source": [
    "import matplotlib.pyplot as plt\n",
    "\n",
    "print(laender)\n",
    "print(einwohner)\n",
    "\n",
    "plt.bar(laender,einwohner)\n",
    "plt.xlabel(\"Laender\")\n",
    "plt.ylabel(\"Bevoelkerungszahlen\")\n",
    "plt.axhline(gesammtBev/len(einwohner),color=\"red\",ls=\"--\")\n",
    "plt.xticks(rotation=90)\n",
    "plt.show()"
   ]
  },
  {
   "cell_type": "code",
   "execution_count": null,
   "metadata": {},
   "outputs": [],
   "source": []
  }
 ],
 "metadata": {
  "celltoolbar": "Tags",
  "kernelspec": {
   "display_name": "Python 3",
   "language": "python",
   "name": "python3"
  },
  "language_info": {
   "codemirror_mode": {
    "name": "ipython",
    "version": 3
   },
   "file_extension": ".py",
   "mimetype": "text/x-python",
   "name": "python",
   "nbconvert_exporter": "python",
   "pygments_lexer": "ipython3",
   "version": "3.7.3"
  }
 },
 "nbformat": 4,
 "nbformat_minor": 4
}
