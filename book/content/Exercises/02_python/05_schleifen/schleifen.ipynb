{
 "cells": [
  {
   "attachments": {},
   "cell_type": "markdown",
   "metadata": {
    "tags": [
     "remove_cell"
    ]
   },
   "source": [
    "<div style=\"width: 100%; overflow: hidden;\">\n",
    "    <div style=\"width: 500px; float: left;\"> \n",
    "        <h1>Ingenieurinformatik – Übung</h1>\n",
    "        Lehrstuhl <b>Computational Civil Engineering</b><br>\n",
    "        Kontakt: <a href = \"mailto: cce-inginf@uni-wuppertal.de\">Email senden</a> | Individuelle Kontakte siehe Webseite des Lehrstuhls<br>\n",
    "        Links: \n",
    "        <a href=\"cce.uni-wuppertal.de/inginf\">Vorlesungsskript</a> | \n",
    "        <a href=\"cce.uni-wuppertal.de/\">Webseite des Lehrstuhls</a>\n",
    "    </div>\n",
    "    <div style=\"float:right;\"> \n",
    "        <img src=\"logo_cce_combined.png\" style=\"width:150px;\"/>\n",
    "    </div>\n",
    "</div>"
   ]
  },
  {
   "attachments": {},
   "cell_type": "markdown",
   "metadata": {},
   "source": [
    "# Anwendung von Schleifen"
   ]
  },
  {
   "attachments": {},
   "cell_type": "markdown",
   "metadata": {},
   "source": [
    "In dieser Aufgabe wird die Verwendung von Schleifen anhand der Summation von ganzen Zahlen und in einer Umrechnungstabelle geübt."
   ]
  },
  {
   "attachments": {},
   "cell_type": "markdown",
   "metadata": {},
   "source": [
    "## Aufgabenteil A"
   ]
  },
  {
   "attachments": {},
   "cell_type": "markdown",
   "metadata": {},
   "source": [
    "Schreiben Sie ein Skript, das die Summe der Zahlen von 1 bis $\\sf N$ bildet. Dabei sollen folgende drei Wege implementiert werden und die Ergebnisse dieser ausgegeben werden. Berechnen Sie die Summe unter Verwendung:\n",
    "\n",
    "1. einer `for`-Schleife, \n",
    "1. einer `while`-Schleife und\n",
    "1. der Summenformel."
   ]
  },
  {
   "attachments": {},
   "cell_type": "markdown",
   "metadata": {},
   "source": [
    "### Lösungshinweis"
   ]
  },
  {
   "attachments": {},
   "cell_type": "markdown",
   "metadata": {},
   "source": [
    "Für $\\sf N=100$ lautet das Ergebnis 5050. "
   ]
  },
  {
   "attachments": {},
   "cell_type": "markdown",
   "metadata": {
    "tags": [
     "loesung",
     "hide_cell"
    ]
   },
   "source": [
    "### Lösung"
   ]
  },
  {
   "cell_type": "code",
   "execution_count": 2,
   "metadata": {
    "tags": [
     "loesung",
     "hide_cell"
    ]
   },
   "outputs": [],
   "source": [
    "N = 100"
   ]
  },
  {
   "cell_type": "code",
   "execution_count": 3,
   "metadata": {
    "tags": [
     "loesung",
     "hide_cell"
    ]
   },
   "outputs": [
    {
     "name": "stdout",
     "output_type": "stream",
     "text": [
      "Die Summe der Zahlen von 0 bis 100 lautet: 5050\n"
     ]
    }
   ],
   "source": [
    "# zu 1:\n",
    "\n",
    "summe = 0\n",
    "for i in range(N+1):\n",
    "    summe += i\n",
    "\n",
    "print(\"Die Summe der Zahlen von 0 bis\", N, \"lautet:\", summe)"
   ]
  },
  {
   "cell_type": "code",
   "execution_count": 4,
   "metadata": {
    "tags": [
     "loesung",
     "hide_cell"
    ]
   },
   "outputs": [
    {
     "name": "stdout",
     "output_type": "stream",
     "text": [
      "Die Summe der Zahlen von 0 bis 100 lautet: 5050\n"
     ]
    }
   ],
   "source": [
    "# zu 2:\n",
    "\n",
    "summe = 0\n",
    "i = 0\n",
    "while i <= N:\n",
    "    summe += i\n",
    "    i += 1\n",
    "\n",
    "print(\"Die Summe der Zahlen von 0 bis\", N, \"lautet:\", summe)"
   ]
  },
  {
   "cell_type": "code",
   "execution_count": 7,
   "metadata": {
    "tags": [
     "loesung",
     "hide_cell"
    ]
   },
   "outputs": [
    {
     "name": "stdout",
     "output_type": "stream",
     "text": [
      "Die Summe der Zahlen von 0 bis 100 lautet: 5050\n"
     ]
    }
   ],
   "source": [
    "# zu 3:\n",
    "\n",
    "summe = (N*(N+1))//2\n",
    "\n",
    "print(\"Die Summe der Zahlen von 0 bis\", N, \"lautet:\", summe)"
   ]
  },
  {
   "attachments": {},
   "cell_type": "markdown",
   "metadata": {},
   "source": [
    "## Aufgabenteil B"
   ]
  },
  {
   "attachments": {},
   "cell_type": "markdown",
   "metadata": {},
   "source": [
    "Erstellen Sie ein Skript, welches eine Umrechnungstabelle für Geschwindigkeiten erzeugt. Folgende Randbedingungen sollen beachtet werden:\n",
    "\n",
    "* Die Umrechnung soll von km/h in m/s erfolgen.\n",
    "* Der Start- und Endwert soll in km/h frei wählbar sein, wobei beide ganzzahlig sein sollen. \n",
    "* Die Anzahl der Umrechnungspunkte soll mit $\\sf N$ definiert werden können und die Zwischenschritte (in km/h) immer als ganze Zahlen erfolgen."
   ]
  },
  {
   "attachments": {},
   "cell_type": "markdown",
   "metadata": {},
   "source": [
    "### Lösungshinweis"
   ]
  },
  {
   "attachments": {},
   "cell_type": "markdown",
   "metadata": {},
   "source": [
    "So könnte beispielsweise die Ausgabe aussehen."
   ]
  },
  {
   "cell_type": "code",
   "execution_count": 6,
   "metadata": {
    "tags": [
     "remove_input"
    ]
   },
   "outputs": [
    {
     "name": "stdout",
     "output_type": "stream",
     "text": [
      "Start bei 0 km/h\n",
      "Ende bei 100 km/h\n",
      "Ausgabeschritte 5\n",
      "\n",
      "km/h\t m/s\n",
      "============\n",
      "0 \t 0.0\n",
      "25 \t 6.944444444444445\n",
      "50 \t 13.88888888888889\n",
      "75 \t 20.833333333333332\n",
      "100 \t 27.77777777777778\n"
     ]
    }
   ],
   "source": [
    "start = 0\n",
    "ende = 100\n",
    "N = 5\n",
    "\n",
    "print('Start bei', start, 'km/h')\n",
    "print('Ende bei', ende, 'km/h')\n",
    "print('Ausgabeschritte', N)\n",
    "print()\n",
    "\n",
    "print('km/h\\t m/s')\n",
    "print('============')\n",
    "dN = (ende - start) // (N-1)\n",
    "for v in range(0, 100+dN, dN):\n",
    "    ms = v * 1000 / 3600\n",
    "    print(v, '\\t', ms)"
   ]
  },
  {
   "attachments": {},
   "cell_type": "markdown",
   "metadata": {
    "tags": [
     "loesung",
     "hide_cell"
    ]
   },
   "source": [
    "### Lösungsvorschlag"
   ]
  },
  {
   "cell_type": "code",
   "execution_count": 1,
   "metadata": {
    "tags": [
     "loesung",
     "hide_cell"
    ]
   },
   "outputs": [
    {
     "name": "stdout",
     "output_type": "stream",
     "text": [
      "Start bei 0 km/h\n",
      "Ende bei 100 km/h\n",
      "Ausgabeschritte 5\n",
      "\n",
      "km/h\t m/s\n",
      "============\n",
      "0 \t 0.0\n",
      "25 \t 6.944444444444445\n",
      "50 \t 13.88888888888889\n",
      "75 \t 20.833333333333332\n",
      "100 \t 27.77777777777778\n"
     ]
    }
   ],
   "source": [
    "# definiere Berechnungsbereich\n",
    "start = 0\n",
    "ende = 100\n",
    "N = 5\n",
    "\n",
    "# Ausgabe der Eingaben \n",
    "print('Start bei', start, 'km/h')\n",
    "print('Ende bei', ende, 'km/h')\n",
    "print('Ausgabeschritte', N)\n",
    "print()\n",
    "\n",
    "# Kopf der Tabelle\n",
    "print('km/h\\t m/s')\n",
    "print('============')\n",
    "\n",
    "# Berechnung der Schrittweite\n",
    "dN = (ende - start) // (N-1)\n",
    "\n",
    "# Berechnungsschleife\n",
    "for v in range(start, ende+dN, dN):\n",
    "    ms = v * 1000 / 3600\n",
    "    print(v, '\\t', ms)"
   ]
  },
  {
   "attachments": {},
   "cell_type": "markdown",
   "metadata": {},
   "source": [
    "## Aufgabenteil C\n",
    "In der Vorherigen Übung sollte in einer Aufgabe eine Liste mit einem bestimmten Muster erstellt werden. Mit dem neu erlernten Konzept von schleifen, ist es nun möglich durch das verändern von zwei Variablen jedes mögliche Muster mit **N** Zahlen nach gleichem Prinzip zu erstellen.\n",
    "\n",
    "Schreiben Sie ein Skript, das eine Liste mit Zahlen von 0 bis **N** ausgibt. Jedoch sollen nur Zahlen in einem bestimmten Muster in der Liste vorhanden sein. **z1** zahlen hinzufügen, danach **z2** Zahlen überspringen, danach wieder **z1** einfügen Zahlen, um darauf die nächsten **z2** wieder zu überspringen, usw. bis zur Zahl **N**."
   ]
  },
  {
   "attachments": {},
   "cell_type": "markdown",
   "metadata": {},
   "source": [
    "### Lösungsvorschlag"
   ]
  },
  {
   "cell_type": "code",
   "execution_count": 36,
   "metadata": {
    "tags": [
     "loesung",
     "hide-cell"
    ]
   },
   "outputs": [
    {
     "name": "stdout",
     "output_type": "stream",
     "text": [
      "[0, 1, 2, 3, 7, 8, 9, 10, 14, 15, 16, 17, 21, 22, 23, 24, 28, 29]\n"
     ]
    }
   ],
   "source": [
    "N = 30\n",
    "z1 = 4\n",
    "z2 = 3\n",
    "liste = []\n",
    "\n",
    "for z in range(z1):\n",
    "    liste += list(range(z, N, z1 + z2))\n",
    "\n",
    "liste.sort()\n",
    "print(liste)"
   ]
  },
  {
   "attachments": {},
   "cell_type": "markdown",
   "metadata": {},
   "source": [
    "Um den Umgang mit Schleifen weiter zu festigen, soll die obrige Liste ohne das Sortieren am Ende erstellt werden.\n",
    ":::::{tip}\n",
    "::::{toggle}\n",
    "Nutzen Sie eine `for`-Schleife um Elemente in eine Liste einzufügen. Was passiert auf diese Weise jedoch bei `(N-1) % (z1 + z2) < z2` und welche maßnahme muss getroffen werden?\n",
    ":::{toggle}\n",
    "Entfernen Sie mit einer `while`-Schleife die Überschüssigen Elemente\n",
    ":::\n",
    "::::\n",
    ":::::"
   ]
  },
  {
   "cell_type": "code",
   "execution_count": 37,
   "metadata": {
    "tags": [
     "loesung",
     "hide-cell"
    ]
   },
   "outputs": [
    {
     "name": "stdout",
     "output_type": "stream",
     "text": [
      "[0, 1, 2, 3, 7, 8, 9, 10, 14, 15, 16, 17, 21, 22, 23, 24, 28, 29, 30, 31]\n"
     ]
    }
   ],
   "source": [
    "liste = []\n",
    "for i in range(0, N, z1 + z2):\n",
    "    for j in range(0, z1):\n",
    "        liste.append(i+j)\n",
    "\n",
    "while liste[-1] >= N:\n",
    "    liste.pop()\n",
    "print(liste)"
   ]
  }
 ],
 "metadata": {
  "celltoolbar": "Tags",
  "kernelspec": {
   "display_name": "Python 3",
   "language": "python",
   "name": "python3"
  },
  "language_info": {
   "codemirror_mode": {
    "name": "ipython",
    "version": 3
   },
   "file_extension": ".py",
   "mimetype": "text/x-python",
   "name": "python",
   "nbconvert_exporter": "python",
   "pygments_lexer": "ipython3",
   "version": "3.10.10"
  }
 },
 "nbformat": 4,
 "nbformat_minor": 4
}
