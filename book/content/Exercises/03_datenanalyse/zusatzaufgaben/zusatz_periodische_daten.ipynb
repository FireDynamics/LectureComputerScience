{
 "cells": [
  {
   "cell_type": "markdown",
   "metadata": {},
   "source": [
    "# Verarbeitung"
   ]
  },
  {
   "cell_type": "markdown",
   "metadata": {},
   "source": [
    "## Numpy Grundlagen"
   ]
  },
  {
   "cell_type": "markdown",
   "metadata": {},
   "source": [
    "### Elementzugriff\n",
    "Schreiben Sie eine Funktion, die zwei 1D numpy Arrays mit jeweils drei Elementen entgegen nimmt und das Kreuzprodukt berechnet. Verwenden Sie nicht die numpy Funktion fürs Kreuzprodukt und verlassen Sie die Schleife, falls die Vektoren die falsche Form haben."
   ]
  },
  {
   "cell_type": "code",
   "execution_count": 12,
   "metadata": {
    "tags": [
     "hide-input"
    ]
   },
   "outputs": [],
   "source": [
    "import numpy as np\n",
    "def kreuzprodukt(a1, a2):\n",
    "    if np.shape(a1) != (3,) or np.shape(a2) != (3,):\n",
    "        pass\n",
    "    produkt = np.zeros(3)\n",
    "    produkt[0] = a1[1]*a2[2] - a1[2]*a2[1]\n",
    "    produkt[1] = a1[2]*a2[0] - a1[0]*a2[2]\n",
    "    produkt[2] = a1[0]*a2[1] - a1[1]*a2[0]\n",
    "    return produkt"
   ]
  },
  {
   "cell_type": "markdown",
   "metadata": {},
   "source": [
    "### Array Manipulation\n",
    "Schreiben Sie eine Funktion, die zwei eindimensionale numpy Arrays entgegen nimmt, diese in einem 2D Array speichert und dieses zurück gibt."
   ]
  },
  {
   "cell_type": "code",
   "execution_count": null,
   "metadata": {
    "tags": [
     "hide-input"
    ]
   },
   "outputs": [],
   "source": [
    "import numpy as np\n",
    "\n",
    "def array_kombinieren(a1, a2):\n",
    "    c = np.array([a1, a2])\n",
    "    return c"
   ]
  },
  {
   "cell_type": "markdown",
   "metadata": {},
   "source": [
    "### Öffnen von Dateien\n",
    "Schreiben Sie zwei Funktionen, die den Namen einer-csv Datei übergeben bekommen und die Datei öffnen und den Inhalt als numpy Array zurück geben. Verwenden sie einmal open und einmal numpy.loadtxt() um die Datei auszulesen. Sie können zum Testen eine der csv-Dateien aus den regulären Übungsaufgaben verwenden"
   ]
  },
  {
   "cell_type": "code",
   "execution_count": 2,
   "metadata": {
    "tags": [
     "hide-input"
    ]
   },
   "outputs": [],
   "source": [
    "import numpy as np\n",
    "\n",
    "# Das öffnen mit open ist flexibler, da es unabhängig von der Formatierung der Datei funktioniert, solange man\n",
    "# die Formatierung kennt. Allerdings muss man es jedes mal selbst programmieren und man hat schnell Fehler \n",
    "# eingebaut.\n",
    "def oeffnen_mit_open(datei_name):\n",
    "    datei = open(datei_name, 'r')\n",
    "    daten = []\n",
    "    for zeile in datei:\n",
    "        zeile_liste = zeile.split(',')             # Liste von Strings aller Elemente einer Zeile\n",
    "        for i in range(len(zeile_liste)):\n",
    "            zeile_liste[i] = float(zeile_liste[i]) # Konvertierung in Floats\n",
    "        daten.append(zeile_liste)\n",
    "    return np.array(daten)                         # Konvertierung in Array\n",
    "\n",
    "def oeffnen_mit_numpy(datei):\n",
    "    return(np.loadtxt(datei, delimiter=','))"
   ]
  },
  {
   "cell_type": "markdown",
   "metadata": {},
   "source": [
    "### Rotationsmatrix\n",
    "Eine Matrix in 3 Dimensionen, die einen Vektor um den Winkel a um die x-Achse rotiert hat die Form: [[1, 0, 0], [0, cos a, -sin a], [0, sin a, cos a]]. Schreiben Sie eine Funktion, die einen Vektor und einen Winkel entgegen nimmt und den Vektor mit der gegebenen Matrix um den Winkel rotiert. Die Drehmatrix wird dazu von vorne mit dem Vektor multipliziert."
   ]
  },
  {
   "cell_type": "code",
   "execution_count": 3,
   "metadata": {
    "tags": [
     "hide-input"
    ]
   },
   "outputs": [],
   "source": [
    "import numpy as np\n",
    "\n",
    "def rotation_3d_vektor(vektor, winkel):\n",
    "    rotationsmatrix = np.array([[1, 0, 0], \n",
    "                                [0, np.cos(winkel), -np.sin(winkel)], \n",
    "                                [0, np.sin(winkel), np.cos(winkel)]])\n",
    "    return np.dot(rotationsmatrix, vektor) "
   ]
  },
  {
   "cell_type": "markdown",
   "metadata": {},
   "source": [
    "### Masken\n",
    "Schreiben Sie eine Funktion, die alle negativen Elemente eines übergebenen Arrays addiert."
   ]
  },
  {
   "cell_type": "code",
   "execution_count": 4,
   "metadata": {
    "tags": [
     "hide-input"
    ]
   },
   "outputs": [],
   "source": [
    "import numpy as np\n",
    "\n",
    "# Masken sind hilfreich, wenn man logische Operationen auf alle Elemente eines Arrays anwenden will\n",
    "# Sie sind ein Array mit den gleichen Dimensionen wie das ursprüngliche Array mit 0 dort, wo der logische \n",
    "# Ausdruck False und 1 wo er True war. Masken können direkt benutzt werden, um alle Elemente an den Stellen der\n",
    "# Einsen zu referenzieren\n",
    "def summe_negativer_elemente(array):\n",
    "    maske = array<0\n",
    "    summe = np.sum(array[maske])\n",
    "    return summe"
   ]
  },
  {
   "cell_type": "markdown",
   "metadata": {},
   "source": [
    "### Refferenzen\n",
    "Schreiben Sie eine Funktion, die ein Array entgegen nimmt. Das zurück gegebene Array soll identisch zu diesem sein, nur dass das erste und letzte Element getauscht sind. Kontrollieren Sie Ihr Ergebnis, indem Sie die beiden Arrays vergleichen."
   ]
  },
  {
   "cell_type": "code",
   "execution_count": 5,
   "metadata": {
    "tags": [
     "hide-input",
     "hide-output"
    ]
   },
   "outputs": [
    {
     "name": "stdout",
     "output_type": "stream",
     "text": [
      "Bei der ersten Methode tauscht sich sowohl das übergebene, als auch das zurück gegebene Array, da array_neu das gleiche Array referenziert wie array.\n",
      "[2 1 2] [2 1 2]\n",
      "Die zweite Methode ist die richtige Lösung mit einer Kopie des Arrays.\n",
      "[5 1 2] [2 1 5]\n",
      "Man kann die Referenz auch bewusst nutzen, um das übergebene Array direkt zu ändern. Allerdings führt dies schnell zu Problemen und sollte in der Regel vermieden werden.\n",
      "[2 1 5]\n"
     ]
    }
   ],
   "source": [
    "import numpy as np\n",
    "\n",
    "# Intuitiver aber falscher Ansatz:\n",
    "def tausche_elemente_falsch(array):\n",
    "    array_neu = array\n",
    "    array_neu[0] = array[-1]\n",
    "    array_neu[-1] = array[0]\n",
    "    return array\n",
    "\n",
    "array = np.array([5,1,2])\n",
    "array2 = tausche_elemente_falsch(array)\n",
    "print('Bei der ersten Methode tauscht sich sowohl das übergebene, als auch das zurück gegebene Array,',  \n",
    "      'da array_neu das gleiche Array referenziert wie array.')\n",
    "print(array, array2)\n",
    "\n",
    "# Ansatz mit kopiertem Array\n",
    "def tausche_elemente_kopie(array):\n",
    "    array_neu = np.copy(array)\n",
    "    array_neu[0] = array[-1]\n",
    "    array_neu[-1] = array[0]\n",
    "    return array_neu\n",
    "\n",
    "array = np.array([5,1,2])\n",
    "array2 = tausche_elemente_kopie(array)\n",
    "print('Die zweite Methode ist die richtige Lösung mit einer Kopie des Arrays.')\n",
    "print(array, array2)\n",
    "\n",
    "# Ansatz mit Tauschen der Elemente des uebergebnen Arrays\n",
    "def tausche_elemente_in_place(array):\n",
    "    element = array[0]\n",
    "    array[0] = array[-1]\n",
    "    array[-1] = element\n",
    "    \n",
    "array = np.array([5,1,2])\n",
    "tausche_elemente_in_place(array)\n",
    "print('Man kann die Referenz auch bewusst nutzen, um das übergebene Array direkt zu ändern.',\n",
    "      'Allerdings führt dies schnell zu Problemen und sollte in der Regel vermieden werden.')\n",
    "print(array)"
   ]
  },
  {
   "cell_type": "markdown",
   "metadata": {},
   "source": [
    "## Mittelwert und Standardabweichung"
   ]
  },
  {
   "cell_type": "markdown",
   "metadata": {},
   "source": [
    "### Schleifen\n",
    "Berechnen Sie den Mittelwert durch eine for Schleife für:\n",
    "\n",
    "$lst = [1,2,3,4,5,6,7,8,9,10]$"
   ]
  },
  {
   "cell_type": "code",
   "execution_count": 6,
   "metadata": {
    "tags": [
     "hide-input"
    ]
   },
   "outputs": [
    {
     "data": {
      "text/plain": [
       "5.5"
      ]
     },
     "execution_count": 6,
     "metadata": {},
     "output_type": "execute_result"
    }
   ],
   "source": [
    "lst = [1,2,3,4,5,6,7,8,9,10]\n",
    "\n",
    "s = 0\n",
    "for i in lst:\n",
    "    s += i\n",
    "    \n",
    "M = s/len(lst)\n",
    "M"
   ]
  },
  {
   "cell_type": "markdown",
   "metadata": {},
   "source": [
    "### Numpy array\n",
    "\n",
    "Konvertieren Sie den List vom Letzten Abschnitt zu einem numpy Array. Berechnen Sie den\n",
    "Mittelwert sowie die Standardabweichung mithilfe von `np.sum()` und dem `shape`-Attribut von numpy arrays."
   ]
  },
  {
   "cell_type": "code",
   "execution_count": 7,
   "metadata": {
    "tags": [
     "hide-input"
    ]
   },
   "outputs": [
    {
     "name": "stdout",
     "output_type": "stream",
     "text": [
      "[ 1  2  3  4  5  6  7  8  9 10]\n",
      "5.5\n",
      "2.8722813232690143\n"
     ]
    }
   ],
   "source": [
    "import numpy as np\n",
    "\n",
    "arr = np.array(lst)\n",
    "print(arr)\n",
    "\n",
    "M = np.sum(arr)/arr.shape[0]\n",
    "print(M)\n",
    "\n",
    "Std = np.sqrt(np.sum((arr-M)**2)/arr.shape[0])\n",
    "print(Std)"
   ]
  },
  {
   "cell_type": "markdown",
   "metadata": {},
   "source": [
    "### Random numpy array\n",
    "\n",
    "Generieren Sie ein random array mit 10 Integers, zwischen 0 und 100. Berechnen Sie den Mittelwert \n",
    "und Standard Abweichung durch `np.mean()` und `np.std()`.\n",
    "\n",
    "Sie können `np.random.randint(a, b, size)` verwenden, um size Zufallszahlen zwischen a und b zu generieren."
   ]
  },
  {
   "cell_type": "code",
   "execution_count": 8,
   "metadata": {
    "tags": [
     "hide-input"
    ]
   },
   "outputs": [
    {
     "name": "stdout",
     "output_type": "stream",
     "text": [
      "[84 80 70 42 11 48 35 96 55  6]\n",
      "52.7\n",
      "28.764735354249304\n"
     ]
    }
   ],
   "source": [
    "from numpy import random\n",
    "\n",
    "arr = random.randint(100, size=10)\n",
    "print(arr)\n",
    "\n",
    "M = np.mean(arr)\n",
    "print(M)\n",
    "\n",
    "Std = np.std(arr)\n",
    "print(Std)"
   ]
  },
  {
   "cell_type": "markdown",
   "metadata": {},
   "source": [
    "### Multi-D numpy array\n",
    "\n",
    "Berechnen Sie den Mittelwert und Standard Abweichung für jede Zeile des gegeben Arrays.\n",
    "\n",
    "`arr = np.array([[3,5,4,6],[9,5,1,7],[4,8,6,2]])`"
   ]
  },
  {
   "cell_type": "code",
   "execution_count": 9,
   "metadata": {
    "tags": [
     "hide-input"
    ]
   },
   "outputs": [
    {
     "name": "stdout",
     "output_type": "stream",
     "text": [
      "M: 4.5 \t Std 1.118033988749895\n",
      "M: 5.5 \t Std 2.958039891549808\n",
      "M: 5.0 \t Std 2.23606797749979\n"
     ]
    }
   ],
   "source": [
    "arr = np.array([[3,5,4,6],[9,5,1,7],[4,8,6,2]])\n",
    "\n",
    "for row in arr:\n",
    "    print('M:',np.mean(row),'\\t', 'Std', np.std(row))"
   ]
  },
  {
   "cell_type": "code",
   "execution_count": 10,
   "metadata": {
    "tags": [
     "hide-input"
    ]
   },
   "outputs": [
    {
     "name": "stdout",
     "output_type": "stream",
     "text": [
      "M: [4.5 5.5 5. ]\n",
      "Std [1.11803399 2.95803989 2.23606798]\n"
     ]
    }
   ],
   "source": [
    "print('M:',arr.mean(axis=1))\n",
    "print('Std',arr.std(axis=1))"
   ]
  },
  {
   "cell_type": "markdown",
   "metadata": {},
   "source": [
    "### Random und Multi-D array\n",
    "\n",
    "* `np.random.seed()`  setzt einen Startpunkt für die Berechnung der Zufallszahlen. Der selbe Algorithmus wird beim gleichen Startpunkt immer die gleichen Zufallszahlen generieren.\n",
    "* `np.random.uniform(a, b, size)` generiert ein numpy Array mit float Zufallszahlen zwischen a und b. An `size` kann ein Tuple übergeben, wenn ein mehrdimensionales Array erstellt werden soll.\n",
    "\n",
    "Nehmen Sie `x = np.linspace(0, 30, 30)` als $x$ Werte der Datenpunkte. Generieren Sie ein random multi-D Array von floats zwischen $-10$ und $10$ mit $30$ Zeilen und $5$ Spalten. Benutzen Sie $21$ als seed Zahl, damit jedes Mal die gleiche Zahlen generiert werden.\n",
    "\n",
    "Berechnen Sie für jede Reihe den Mittelwert und die Standartabweichung und plotten Sie diese in ein Diagram. Benutzen Sie [`plt.fill_between()`](https://matplotlib.org/stable/api/_as_gen/matplotlib.pyplot.fill_between.html) um die Standartabweichung als Band um den Mittelwertgraphen zu plotten."
   ]
  },
  {
   "cell_type": "code",
   "execution_count": 11,
   "metadata": {
    "scrolled": true,
    "tags": [
     "hide-input",
     "hide-output"
    ]
   },
   "outputs": [
    {
     "data": {
      "image/png": "[encoded data removed]",
      "text/plain": [
       "<Figure size 432x288 with 1 Axes>"
      ]
     },
     "metadata": {
      "needs_background": "light"
     },
     "output_type": "display_data"
    }
   ],
   "source": [
    "import matplotlib.pyplot as plt\n",
    "x = np.linspace(0, 30, 30)\n",
    "\n",
    "np.random.seed(21)\n",
    "arr = np.random.uniform(low=-10, high=10, size=(30, 5))   \n",
    "\n",
    "y_mean = []\n",
    "for row in arr:\n",
    "    y_mean.append(np.mean(row))\n",
    "\n",
    "y_std = []\n",
    "for row in arr:\n",
    "    y_std.append(np.std(row))\n",
    "    \n",
    "#List comprehension\n",
    "\n",
    "y_std_unten = [m - n for m, n in zip(y_mean, y_std)] \n",
    "y_std_oben = [m + n for m, n in zip(y_mean, y_std)]\n",
    "\n",
    "#Plotten\n",
    "\n",
    "plt.plot(x, y_mean, 'r-', label='Mittelwert')\n",
    "plt.fill_between(x, y_std_unten, y_std_oben, label='Std_Abweichung')\n",
    "plt.legend()\n",
    "plt.show()"
   ]
  },
  {
   "cell_type": "code",
   "execution_count": null,
   "metadata": {},
   "outputs": [],
   "source": []
  }
 ],
 "metadata": {
  "celltoolbar": "Tags",
  "kernelspec": {
   "display_name": "Python 3",
   "language": "python",
   "name": "python3"
  },
  "language_info": {
   "codemirror_mode": {
    "name": "ipython",
    "version": 3
   },
   "file_extension": ".py",
   "mimetype": "text/x-python",
   "name": "python",
   "nbconvert_exporter": "python",
   "pygments_lexer": "ipython3",
   "version": "3.7.3"
  }
 },
 "nbformat": 4,
 "nbformat_minor": 4
}
