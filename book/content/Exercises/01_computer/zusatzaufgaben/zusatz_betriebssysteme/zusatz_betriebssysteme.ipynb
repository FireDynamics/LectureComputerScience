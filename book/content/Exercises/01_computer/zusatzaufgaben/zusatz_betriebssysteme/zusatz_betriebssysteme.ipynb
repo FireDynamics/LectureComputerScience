{
 "cells": [
  {
   "attachments": {},
   "cell_type": "markdown",
   "metadata": {
    "editable": true,
    "slideshow": {
     "slide_type": ""
    },
    "tags": [
     "remove_cell"
    ]
   },
   "source": [
    "<div style=\"width: 100%; overflow: hidden;\">\n",
    "    <div style=\"width: 500px; float: left;\"> \n",
    "        <h1>Ingenieurinformatik – Übung</h1>\n",
    "        Lehrstuhl <b>Computational Civil Engineering</b><br>\n",
    "        Kontakt: <a href = \"mailto: cce-inginf@uni-wuppertal.de\">Email senden</a> | Individuelle Kontakte siehe Webseite des Lehrstuhls<br>\n",
    "        Links: \n",
    "        <a href=\"cce.uni-wuppertal.de/inginf\">Vorlesungsskript</a> | \n",
    "        <a href=\"cce.uni-wuppertal.de/\">Webseite des Lehrstuhls</a>\n",
    "    </div>\n",
    "    <div style=\"float:right;\"> \n",
    "        <img src=\"logo_cce_combined.png\" style=\"width:150px;\"/>\n",
    "    </div>\n",
    "</div>"
   ]
  },
  {
   "attachments": {},
   "cell_type": "markdown",
   "metadata": {},
   "source": [
    "# Betriebssysteme"
   ]
  },
  {
   "attachments": {},
   "cell_type": "markdown",
   "metadata": {},
   "source": [
    "## Aufgabenstellung\n",
    "\n",
    "- Was ist die Virtuelle Maschine (VM)?\n",
    "- Welche Typen von VM gibt es?\n",
    "- Was ist ein Hypervisor und wie hängt er mit einer VM zusammen?\n",
    "- Was sind Beispiele von Virtuellen Maschinen?"
   ]
  },
  {
   "attachments": {},
   "cell_type": "markdown",
   "metadata": {},
   "source": [
    "### Lösungsvorschlag\n",
    ":::{toggle}  \n",
    "- Eine Virtuelle Maschine (VM) ist ein virtuelles Computersystem, das auf einem Host-System ausgeführt wird. Es lassen sich mehrere voneinander isolierte VMs auf einem Host-System parallel betreiben. Virtuelle Maschinen basieren auf Computerarchitekturen und bieten die Funktionalität eines physischen Computers. Ihre Implementierungen können spezialisierte Hardware, Software oder eine Kombination davon beinhalten.\n",
    "\n",
    "- Es gibt zwei Typen von VM:\n",
    "1. Systembasierte virtuelle Maschinen stellen einen Ersatz für eine reale Maschine dar. Sie stellen die Funktionalität bereit, die zur Ausführung ganzer Betriebssysteme benötigt wird.\n",
    "2. Prozessbasierte virtuelle Maschinen sind für die Ausführung von Computerprogrammen in einer plattformunabhängigen Umgebung konzipiert.\n",
    "    \n",
    "- Der Hypervisor (oder Virtual Machine Monitor, VMM, Virtualizer) ist eine Art Computersoftware, Firmware oder Hardware, die virtuelle Maschinen erstellt und ausführt. Ein Computer, auf dem ein Hypervisor eine oder mehrere virtuelle Maschinen ausführt, wird als Host-Maschine bezeichnet, und jede virtuelle Maschine wird als Gast-Maschine bezeichnet.\n",
    "\n",
    "- Beispiele:\n",
    "1. Systembasierte virtuelle Maschine: Oracles VirtualBox\n",
    "2. Prozessbasierte virtuelle Maschine: Java-Laufzeitumgebung als Teil der Java-Plattform  \n",
    ":::"
   ]
  }
 ],
 "metadata": {
  "celltoolbar": "Tags",
  "kernelspec": {
   "display_name": "Python 3 (ipykernel)",
   "language": "python",
   "name": "python3"
  },
  "language_info": {
   "codemirror_mode": {
    "name": "ipython",
    "version": 3
   },
   "file_extension": ".py",
   "mimetype": "text/x-python",
   "name": "python",
   "nbconvert_exporter": "python",
   "pygments_lexer": "ipython3",
   "version": "3.9.6"
  }
 },
 "nbformat": 4,
 "nbformat_minor": 4
}
