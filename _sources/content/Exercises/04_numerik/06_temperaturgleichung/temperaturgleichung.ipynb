{
 "cells": [
  {
   "cell_type": "markdown",
   "metadata": {
    "tags": [
     "remove_cell"
    ]
   },
   "source": [
    "<div style=\"width: 100%; overflow: hidden;\">\n",
    "    <div style=\"width: 500px; float: left;\"> \n",
    "        <h1>Ingenieurinformatik – Übung</h1>\n",
    "        Lehrstuhl <b>Computational Civil Engineering</b><br>\n",
    "        Kontakt: <a href = \"mailto: cce-inginf@uni-wuppertal.de\">Email senden</a> | Individuelle Kontakte siehe Webseite des Lehrstuhls<br>\n",
    "        Links: \n",
    "        <a href=\"cce.uni-wuppertal.de/inginf\">Vorlesungsskript</a> | \n",
    "        <a href=\"cce.uni-wuppertal.de/\">Webseite des Lehrstuhls</a>\n",
    "    </div>\n",
    "    <div style=\"float:right;\"> \n",
    "        <img src=\"logo_cce_combined.png\" style=\"width:150px;\"/>\n",
    "    </div>\n",
    "</div>"
   ]
  },
  {
   "cell_type": "markdown",
   "metadata": {},
   "source": [
    "# Temperaturgleichung"
   ]
  },
  {
   "cell_type": "markdown",
   "metadata": {},
   "source": [
    "Die Lösung einer gewöhnlichen Differentialgleichung, hier der Temperaturentwicklung, wird in dieser Aufgabe nochmals vorgestellt. Dabei wird die Gleichung erweitert und ein komplexer Quellterm implementiert. "
   ]
  },
  {
   "cell_type": "markdown",
   "metadata": {},
   "source": [
    "## Aufgabenteil A\n",
    "\n",
    "In der Vorlesung wurde folgende Differentialgleichung vorgestellt. \n",
    "\n",
    "$$ \\sf T'(t) = -(T-T_\\infty) + Q(t) $$\n",
    "\n",
    "Verwenden Sie die Funktion `scipy.integrate.solve_ivp` um die Gleichung für $\\sf T_0 = 20$ mit $\\sf T_\\infty=10$ und $\\sf Q=0$ zu lösen. Die Lösung soll bis $\\sf t=25$ berechnet werden. Erstellen und beschriften Sie den Lösungsplot."
   ]
  },
  {
   "cell_type": "markdown",
   "metadata": {},
   "source": [
    "### Lösungshinweis\n",
    "\n",
    "Die Ausgabe könnte wie folgt aussehen.\n",
    "\n",
    "![](teil1.png)"
   ]
  },
  {
   "cell_type": "markdown",
   "metadata": {
    "tags": [
     "loesung",
     "hide_cell"
    ]
   },
   "source": [
    "### Lösungsvorschlag"
   ]
  },
  {
   "cell_type": "code",
   "execution_count": 1,
   "metadata": {
    "tags": [
     "loesung",
     "hide_cell"
    ]
   },
   "outputs": [],
   "source": [
    "import numpy as np\n",
    "import matplotlib.pyplot as plt\n",
    "import scipy.integrate"
   ]
  },
  {
   "cell_type": "code",
   "execution_count": 2,
   "metadata": {
    "tags": [
     "loesung",
     "hide_cell"
    ]
   },
   "outputs": [],
   "source": [
    "# Rechte-Hand-Seite der Gleichung, hier mit Q=0\n",
    "def f_T1(t, T):\n",
    "    Tinfty = 10\n",
    "    return -(T-Tinfty)"
   ]
  },
  {
   "cell_type": "code",
   "execution_count": 3,
   "metadata": {
    "tags": [
     "loesung",
     "hide_cell"
    ]
   },
   "outputs": [],
   "source": [
    "# Anfangswert der Lösung\n",
    "T0 = 20\n",
    "\n",
    "# Aufruf des Lösers\n",
    "res1 = scipy.integrate.solve_ivp(f_T1, [0, 25], [T0])"
   ]
  },
  {
   "cell_type": "code",
   "execution_count": 4,
   "metadata": {
    "tags": [
     "loesung",
     "hide_cell"
    ]
   },
   "outputs": [
    {
     "data": {
      "image/png": "[encoded data removed]",
      "text/plain": [
       "<Figure size 432x288 with 1 Axes>"
      ]
     },
     "metadata": {
      "needs_background": "light"
     },
     "output_type": "display_data"
    }
   ],
   "source": [
    "plt.plot(res1.t, res1.y[0], marker='.')\n",
    "plt.xlabel(\"Zeit t\")\n",
    "plt.ylabel(\"Temperatur T\")\n",
    "plt.grid()\n",
    "\n",
    "# Ausgabe für den Lösungshinweis\n",
    "# plt.savefig('teil1.png')"
   ]
  },
  {
   "cell_type": "markdown",
   "metadata": {},
   "source": [
    "## Aufgabenteil B\n",
    "\n",
    "Fügen Sie einen neuen Koeffizienten $\\sf \\beta$ als Vorfaktor vor den ersten Term auf der rechten Seite der Gleichung. Lösen Sie nun die Gleichung für $\\sf \\beta=0.2$. Stellen Sie graphisch die Lösungen mit und ohne das $\\sf \\beta$ in einer Graphik dar."
   ]
  },
  {
   "cell_type": "markdown",
   "metadata": {},
   "source": [
    "### Lösungshinweis\n",
    "\n",
    "Die Ausgabe könnte wie folgt aussehen.\n",
    "\n",
    "![](teil2.png)"
   ]
  },
  {
   "cell_type": "markdown",
   "metadata": {
    "tags": [
     "loesung",
     "hide_cell"
    ]
   },
   "source": [
    "### Lösungsvorschlag"
   ]
  },
  {
   "cell_type": "code",
   "execution_count": 5,
   "metadata": {
    "tags": [
     "loesung",
     "hide_cell"
    ]
   },
   "outputs": [],
   "source": [
    "def f_T2(t, T):\n",
    "    Tinfty = 10\n",
    "    beta = 0.2\n",
    "    return -beta*(T-Tinfty)"
   ]
  },
  {
   "cell_type": "code",
   "execution_count": 6,
   "metadata": {
    "tags": [
     "loesung",
     "hide_cell"
    ]
   },
   "outputs": [],
   "source": [
    "T0 = 20\n",
    "res2 = scipy.integrate.solve_ivp(f_T2, [0, 25], [T0])"
   ]
  },
  {
   "cell_type": "code",
   "execution_count": 14,
   "metadata": {
    "tags": [
     "loesung",
     "hide_cell"
    ]
   },
   "outputs": [
    {
     "data": {
      "text/plain": [
       "<matplotlib.legend.Legend at 0x7fd0e37ab710>"
      ]
     },
     "execution_count": 14,
     "metadata": {},
     "output_type": "execute_result"
    },
    {
     "data": {
      "image/png": "[encoded data removed]",
      "text/plain": [
       "<Figure size 432x288 with 1 Axes>"
      ]
     },
     "metadata": {
      "needs_background": "light"
     },
     "output_type": "display_data"
    }
   ],
   "source": [
    "plt.plot(res1.t, res1.y[0], marker='.', label='beta=1')\n",
    "plt.plot(res2.t, res2.y[0], marker='.', label='beta=0.2')\n",
    "\n",
    "plt.xlabel(\"Zeit t\")\n",
    "plt.ylabel(\"Temperatur T\")\n",
    "plt.grid()\n",
    "plt.legend()\n",
    "\n",
    "# Ausgabe für den Lösungshinweis\n",
    "# plt.savefig('teil2.png')"
   ]
  },
  {
   "cell_type": "markdown",
   "metadata": {},
   "source": [
    "## Aufgabenteil C\n",
    "\n",
    "Nun wird der Quellterm $\\sf Q(t)$ erweitert. Dieser soll für die Zeit zwischen 5 und 25 zwei volle Sinus-Schwingungen mit einer Amplitude von 10 durchführen, sonst ist er Null. Lösen Sie die Gleichung mit $\\sf \\beta=0.2$ bis zur Zeit $\\sf t=50$. Stellen Sie neben der Lösung auch die Quelltermfunktion $\\sf Q(t)$ in einer gemeinsamen Graphik dar."
   ]
  },
  {
   "cell_type": "markdown",
   "metadata": {},
   "source": [
    "### Lösungshinweis\n",
    "\n",
    "Die Ausgabe könnte wie folgt aussehen.\n",
    "\n",
    "![](teil3.png)"
   ]
  },
  {
   "cell_type": "markdown",
   "metadata": {
    "tags": [
     "loesung",
     "hide_cell"
    ]
   },
   "source": [
    "### Lösungsvorschlag"
   ]
  },
  {
   "cell_type": "code",
   "execution_count": 8,
   "metadata": {
    "tags": [
     "loesung",
     "hide_cell"
    ]
   },
   "outputs": [],
   "source": [
    "def f_Q(t):\n",
    "    Q = 0\n",
    "    if t >= 5 and t <= 25: \n",
    "        Q = 10 * np.sin((t-5)/20 * 4 * np.pi)\n",
    "    return Q"
   ]
  },
  {
   "cell_type": "code",
   "execution_count": 9,
   "metadata": {
    "tags": [
     "loesung",
     "hide_cell"
    ]
   },
   "outputs": [],
   "source": [
    "def f_T3(t, T):\n",
    "    Tinfty = 10\n",
    "    return -0.2*(T-Tinfty) + f_Q(t)"
   ]
  },
  {
   "cell_type": "code",
   "execution_count": 10,
   "metadata": {
    "tags": [
     "loesung",
     "hide_cell"
    ]
   },
   "outputs": [],
   "source": [
    "T0 = 20\n",
    "res3 = scipy.integrate.solve_ivp(f_T3, [0, 50], [T0])"
   ]
  },
  {
   "cell_type": "code",
   "execution_count": 11,
   "metadata": {
    "tags": [
     "loesung",
     "hide_cell"
    ]
   },
   "outputs": [
    {
     "data": {
      "image/png": "[encoded data removed]",
      "text/plain": [
       "<Figure size 432x288 with 1 Axes>"
      ]
     },
     "metadata": {
      "needs_background": "light"
     },
     "output_type": "display_data"
    }
   ],
   "source": [
    "plt.plot(res3.t, res3.y[0], marker='.', label='T(t)')\n",
    "\n",
    "Q = np.zeros_like(res3.t)\n",
    "for i in range(len(Q)):\n",
    "    Q[i] = f_Q(res3.t[i])\n",
    "    \n",
    "plt.plot(res3.t, Q, marker='.', label='Q(t)')\n",
    "\n",
    "plt.xlabel(\"Zeit t\")\n",
    "plt.ylabel(\"Funktionswert\")\n",
    "plt.grid()\n",
    "plt.legend()\n",
    "\n",
    "# Ausgabe für den Lösungshinweis\n",
    "# plt.savefig('teil3.png')"
   ]
  },
  {
   "cell_type": "markdown",
   "metadata": {},
   "source": [
    "## Aufgabenteil D\n",
    "\n",
    "Die graphische Darstellung, siehe Lösungshinweis, deutet auf eine sehr sprunghafte Lösung. Verwenden Sie das optionale Argument `max_step` der Funktion `scipy.integrate.solve_ivp` um einen kleineren Zeitschritt, z.B. $\\sf \\Delta t=0.25$, zu wählen. Vergleichen Sie nun die beiden Lösungen.  "
   ]
  },
  {
   "cell_type": "markdown",
   "metadata": {},
   "source": [
    "### Lösungshinweis\n",
    "\n",
    "Die Ausgabe könnte wie folgt aussehen.\n",
    "\n",
    "![](teil4.png)"
   ]
  },
  {
   "cell_type": "markdown",
   "metadata": {
    "tags": [
     "loesung",
     "hide_cell"
    ]
   },
   "source": [
    "### Lösungsvorschlag"
   ]
  },
  {
   "cell_type": "code",
   "execution_count": 12,
   "metadata": {
    "tags": [
     "loesung",
     "hide_cell"
    ]
   },
   "outputs": [],
   "source": [
    "T0 = 20\n",
    "res4 = scipy.integrate.solve_ivp(f_T3, [0, 50], [T0], max_step=0.5)"
   ]
  },
  {
   "cell_type": "code",
   "execution_count": 13,
   "metadata": {
    "tags": [
     "loesung",
     "hide_cell"
    ]
   },
   "outputs": [
    {
     "data": {
      "image/png": "[encoded data removed]",
      "text/plain": [
       "<Figure size 432x288 with 1 Axes>"
      ]
     },
     "metadata": {
      "needs_background": "light"
     },
     "output_type": "display_data"
    }
   ],
   "source": [
    "plt.plot(res3.t, res3.y[0], marker='.', label='T(t) – dt variabel')\n",
    "plt.plot(res4.t, res4.y[0], marker='.', label='T(t) – dt max 0.5')\n",
    "\n",
    "Q = np.zeros_like(res4.t)\n",
    "for i in range(len(Q)):\n",
    "    Q[i] = f_Q(res4.t[i])\n",
    "    \n",
    "plt.plot(res4.t, Q, marker='.', label='Q(t)')\n",
    "\n",
    "plt.xlabel(\"Zeit t\")\n",
    "plt.ylabel(\"Funktionswert\")\n",
    "plt.grid()\n",
    "plt.legend()\n",
    "\n",
    "# Ausgabe für den Lösungshinweis\n",
    "# plt.savefig('teil4.png')"
   ]
  },
  {
   "cell_type": "code",
   "execution_count": null,
   "metadata": {},
   "outputs": [],
   "source": []
  }
 ],
 "metadata": {
  "celltoolbar": "Tags",
  "kernelspec": {
   "display_name": "Python 3",
   "language": "python",
   "name": "python3"
  },
  "language_info": {
   "codemirror_mode": {
    "name": "ipython",
    "version": 3
   },
   "file_extension": ".py",
   "mimetype": "text/x-python",
   "name": "python",
   "nbconvert_exporter": "python",
   "pygments_lexer": "ipython3",
   "version": "3.7.3"
  }
 },
 "nbformat": 4,
 "nbformat_minor": 4
}
