{
 "cells": [
  {
   "cell_type": "markdown",
   "metadata": {
    "tags": [
     "remove_cell"
    ]
   },
   "source": [
    "<div style=\"width: 100%; overflow: hidden;\">\n",
    "    <div style=\"width: 500px; float: left;\"> \n",
    "        <h1>Ingenieurinformatik – Übung</h1>\n",
    "        Lehrstuhl <b>Computational Civil Engineering</b><br>\n",
    "        Kontakt: <a href = \"mailto: cce-inginf@uni-wuppertal.de\">Email senden</a> | Individuelle Kontakte siehe Webseite des Lehrstuhls<br>\n",
    "        Links: \n",
    "        <a href=\"cce.uni-wuppertal.de/inginf\">Vorlesungsskript</a> | \n",
    "        <a href=\"cce.uni-wuppertal.de/\">Webseite des Lehrstuhls</a>\n",
    "    </div>\n",
    "    <div style=\"float:right;\"> \n",
    "        <img src=\"logo_cce_combined.png\" style=\"width:150px;\"/>\n",
    "    </div>\n",
    "</div>"
   ]
  },
  {
   "cell_type": "markdown",
   "metadata": {},
   "source": [
    "# Betriebssysteme"
   ]
  },
  {
   "cell_type": "markdown",
   "metadata": {},
   "source": [
    "## Aufgabe 1\n",
    "\n",
    "- Was is Virtuelle Maschine (VM)?\n",
    "- Welche Typen von VM gibt es?\n",
    "- Was ist ein Hypervisor und wie hängt er mit einer vm zusammen?\n",
    "- Beispiele von Virtuelle Maschine?"
   ]
  },
  {
   "cell_type": "markdown",
   "metadata": {},
   "source": [
    "### Lösung\n",
    "```{toggle}\n",
    "- Eine Virtuelle Maschine (VM) ist ein virtuelles Computersystem, das auf einem Host-System ausgeführt wird. Es lassen sich mehrere voneinander isolierte VMs auf einem Host-System parallel betreiben. Virtuelle Maschinen basieren auf Computerarchitekturen und bieten die Funktionalität eines physischen Computers. Ihre Implementierungen können spezialisierte Hardware, Software oder eine Kombination davon beinhalten.\n",
    "\n",
    "- Es gibt zwei Typen von VM:\n",
    "1. Systembasierte virtuelle Maschinen stellen einen Ersatz für eine reale Maschine dar. Sie stellen die Funktionalität bereit, die zur Ausführung ganzer Betriebssysteme benötigt wird.\n",
    "2. Prozessbasierte virtuelle Maschinensind für die Ausführung von Computerprogrammen in einer plattformunabhängigen Umgebung konzipiert.\n",
    "    \n",
    "- Hypervisor (oder Virtual Machine Monitor, VMM, Virtualizer) ist eine Art Computersoftware, Firmware oder Hardware, die virtuelle Maschinen erstellt und ausführt. Ein Computer, auf dem ein Hypervisor eine oder mehrere virtuelle Maschinen ausführt, wird als Host-Maschine bezeichnet, und jede virtuelle Maschine wird als Gast-Maschine bezeichnet.\n",
    "\n",
    "- Beispiele:\n",
    "    Systembasierte virtuelle Maschine: Oracles VirtualBox\n",
    "    Prozessbasierte virtuelle Maschine: Java-Laufzeitumgebung als Teil der Java-Plattform\n",
    "```"
   ]
  },
  {
   "cell_type": "code",
   "execution_count": null,
   "metadata": {},
   "outputs": [],
   "source": []
  }
 ],
 "metadata": {
  "celltoolbar": "Tags",
  "kernelspec": {
   "display_name": "Python 3",
   "language": "python",
   "name": "python3"
  },
  "language_info": {
   "codemirror_mode": {
    "name": "ipython",
    "version": 3
   },
   "file_extension": ".py",
   "mimetype": "text/x-python",
   "name": "python",
   "nbconvert_exporter": "python",
   "pygments_lexer": "ipython3",
   "version": "3.7.7"
  }
 },
 "nbformat": 4,
 "nbformat_minor": 4
}
