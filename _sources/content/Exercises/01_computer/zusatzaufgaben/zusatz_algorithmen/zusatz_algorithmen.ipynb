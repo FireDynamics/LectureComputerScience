{
 "cells": [
  {
   "cell_type": "markdown",
   "metadata": {
    "tags": [
     "remove_cell"
    ]
   },
   "source": [
    "<div style=\"width: 100%; overflow: hidden;\">\n",
    "    <div style=\"width: 500px; float: left;\"> \n",
    "        <h1>Ingenieurinformatik – Übung</h1>\n",
    "        Lehrstuhl <b>Computational Civil Engineering</b><br>\n",
    "        Kontakt: <a href = \"mailto: cce-inginf@uni-wuppertal.de\">Email senden</a> | Individuelle Kontakte siehe Webseite des Lehrstuhls<br>\n",
    "        Links: \n",
    "        <a href=\"cce.uni-wuppertal.de/inginf\">Vorlesungsskript</a> | \n",
    "        <a href=\"cce.uni-wuppertal.de/\">Webseite des Lehrstuhls</a>\n",
    "    </div>\n",
    "    <div style=\"float:right;\"> \n",
    "        <img src=\"logo_cce_combined.png\" style=\"width:150px;\"/>\n",
    "    </div>\n",
    "</div>"
   ]
  },
  {
   "cell_type": "markdown",
   "metadata": {},
   "source": [
    "# Algorithmen"
   ]
  },
  {
   "cell_type": "markdown",
   "metadata": {},
   "source": [
    "## Aufgabe 1\n",
    "\n",
    "Beantworten Sie die folgenden Fragen mit eigenen Worten:\n",
    "\n",
    "- Was ist ein Algorithmus?\n",
    "- Was ist der Unterschied eines Algorithmus zu einem Computerprogramm?\n",
    "- Was ist ein Flussdiagramm und wofür ist es gut?\n",
    "- Was ist der worst case beim Bubblesortalgorithmus?\n",
    "- Gibt es eine Liste, bei der Selectionsort weniger Schleifendurchgänge als Bubblesort hat?\n",
    "- Wieso kann Selectionsort in bestimmten Situationen trotzdem effizienter sein als Bubblesort? Betrachten Sie hierzu die Anzahl der vertauschten Elemente.\n"
   ]
  },
  {
   "cell_type": "markdown",
   "metadata": {},
   "source": [
    "### Lösung\n",
    "```{toggle}\n",
    "- Ein Algorithmus ist eine Kette eindeutiger Anweisungen, die ein Problem oder eine Gruppe von Problemen lösen.\n",
    "- Ein Algortithmus hat erstmal nichts mit Programmieren zu tun sondern beschreibt formal den Lösungsweg zum Lösen eines Problems. Ein Programm ist jedoch, in der Regel, eine für den Computer lesbare Implementierung eines oder mehrer Algorithmen.\n",
    "- Ein Flussdiagramm ist eine graphische Darstellung eines Algorithmus oder eines Programmflusses. Je komplexer Algorithmen werden, desto schwieriger und unübersichtlicher wird es, diese nur mit Worten zu definieren. Ein Flussdiagramm bietet die Möglichkeit einer formalen, übersichtlichen Beschreibung.\n",
    "- Der worst case ist der Fall, bei dem ein Algorithmus die maximale Anzahl an Wiederholungen durchläuft, bevor er terminiert. Im Fall von Bubblesort ist dies eine absteigend sortierte Liste, da die zusätzliche Abbruchbedingung, dass keine Vertauschungen in der letzten Iteration der inneren Schleife durchgeführt wurden, nie erreicht wird.\n",
    "- Selectionsort hat immer mehr oder, im worst case, gleich viele Schleifendurchläufe wie Bubblesort.\n",
    "- Bubblesort hat weniger Wiederholungen, weil neben dem finden des größten Elementes in der Regel auch der Rest der Liste etwas weiter sortiert wird. Dies führt jedoch dazu, dass bei jedem Durchlauf der inneren Schleife im Durchschnitt mehr Anweisungen ausgeführt werden als bei Selectionsort. Gerade im worst case ist Bubblesort signifikant langsamer, weil in jeder Wiederholung nicht nur zwei Elemente verglichen, sondern auch getauscht werden, während bei Selectionsort nur ein Mal pro Durchlauf der äußeren Schleife getauscht wird. Und auch wenn die zu sortierenden Listen unsortiert sind, kann Selectionsort effizienter sein, wenn die Sortierung auf einem System ausgeführt wird, auf dem das Speichern von Daten wesentlich länger dauert als das Lesen.\n",
    "```"
   ]
  },
  {
   "cell_type": "code",
   "execution_count": null,
   "metadata": {},
   "outputs": [],
   "source": []
  }
 ],
 "metadata": {
  "celltoolbar": "Tags",
  "kernelspec": {
   "display_name": "Python 3",
   "language": "python",
   "name": "python3"
  },
  "language_info": {
   "codemirror_mode": {
    "name": "ipython",
    "version": 3
   },
   "file_extension": ".py",
   "mimetype": "text/x-python",
   "name": "python",
   "nbconvert_exporter": "python",
   "pygments_lexer": "ipython3",
   "version": "3.7.3"
  }
 },
 "nbformat": 4,
 "nbformat_minor": 4
}
