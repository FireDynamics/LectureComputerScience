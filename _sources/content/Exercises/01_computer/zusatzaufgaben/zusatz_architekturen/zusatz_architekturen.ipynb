{
 "cells": [
  {
   "cell_type": "markdown",
   "metadata": {
    "tags": [
     "remove_cell"
    ]
   },
   "source": [
    "<div style=\"width: 100%; overflow: hidden;\">\n",
    "    <div style=\"width: 500px; float: left;\"> \n",
    "        <h1>Ingenieurinformatik – Übung</h1>\n",
    "        Lehrstuhl <b>Computational Civil Engineering</b><br>\n",
    "        Kontakt: <a href = \"mailto: cce-inginf@uni-wuppertal.de\">Email senden</a> | Individuelle Kontakte siehe Webseite des Lehrstuhls<br>\n",
    "        Links: \n",
    "        <a href=\"cce.uni-wuppertal.de/inginf\">Vorlesungsskript</a> | \n",
    "        <a href=\"cce.uni-wuppertal.de/\">Webseite des Lehrstuhls</a>\n",
    "    </div>\n",
    "    <div style=\"float:right;\"> \n",
    "        <img src=\"logo_cce_combined.png\" style=\"width:150px;\"/>\n",
    "    </div>\n",
    "</div>"
   ]
  },
  {
   "cell_type": "markdown",
   "metadata": {},
   "source": [
    "# Prozessorarchitekturen"
   ]
  },
  {
   "cell_type": "markdown",
   "metadata": {},
   "source": [
    "## Aufgabe 1\n",
    "\n",
    "Wozu dient \"Hardwarebeschleunigung\", e.g. Grafikkarten? Was sind Vor- und Nachteile?"
   ]
  },
  {
   "cell_type": "markdown",
   "metadata": {},
   "source": [
    "### Lösung\n",
    "```{toggle}\n",
    "Für Hardwarebeschleunigung werden Hardwarekomponenten für die Bearbeitung einer bestimmten Art von Aufgabe ausgelegt. Beispiele sind Grafikkarten oder Soundkarten.\n",
    "Durch die Spezialisierung kann eine Aufgabe deutlich schneller und effizienter bearbeitet werden, als es in dem allgemeinen Design einer CPU möglich wäre. Allerdings erhöhen sich die Zugriffszeiten durch das Auslagern der Prozesse von der CPU. Daher wird versucht mehr Komponenten in die CPU zu integrieren, beispielsweise mathematischer Koprozessor oder Cache.\n",
    "Wenn man andere Aufgaben entsprechend formulieren kann, lässt sich die Leistungsfähigkeite der Beschleunigerkarten auch für andere Aufgaben nutzen, siehe Zusammenspiel von Grafikkarten und neuronalen Netzen oder Cryptomining. Allerdings kann es auch hier sinnvoll sein gezielt Hardware für die Aufgabe zu entwickeln, siehe Tesla Full Self Driving Computer für das neuronale Netz.\n",
    "```"
   ]
  },
  {
   "cell_type": "code",
   "execution_count": null,
   "metadata": {},
   "outputs": [],
   "source": []
  }
 ],
 "metadata": {
  "celltoolbar": "Tags",
  "kernelspec": {
   "display_name": "Python 3",
   "language": "python",
   "name": "python3"
  },
  "language_info": {
   "codemirror_mode": {
    "name": "ipython",
    "version": 3
   },
   "file_extension": ".py",
   "mimetype": "text/x-python",
   "name": "python",
   "nbconvert_exporter": "python",
   "pygments_lexer": "ipython3",
   "version": "3.7.7"
  }
 },
 "nbformat": 4,
 "nbformat_minor": 4
}
