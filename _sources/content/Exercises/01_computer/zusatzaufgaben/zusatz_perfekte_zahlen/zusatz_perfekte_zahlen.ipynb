{
 "cells": [
  {
   "cell_type": "markdown",
   "metadata": {
    "tags": [
     "remove_cell"
    ]
   },
   "source": [
    "<div style=\"width: 100%; overflow: hidden;\">\n",
    "    <div style=\"width: 500px; float: left;\"> \n",
    "        <h1>Ingenieurinformatik – Übung</h1>\n",
    "        Lehrstuhl <b>Computational Civil Engineering</b><br>\n",
    "        Kontakt: <a href = \"mailto: cce-inginf@uni-wuppertal.de\">Email senden</a> | Individuelle Kontakte siehe Webseite des Lehrstuhls<br>\n",
    "        Links: \n",
    "        <a href=\"cce.uni-wuppertal.de/inginf\">Vorlesungsskript</a> | \n",
    "        <a href=\"cce.uni-wuppertal.de/\">Webseite des Lehrstuhls</a>\n",
    "    </div>\n",
    "    <div style=\"float:right;\"> \n",
    "        <img src=\"logo_cce_combined.png\" style=\"width:150px;\"/>\n",
    "    </div>\n",
    "</div>"
   ]
  },
  {
   "cell_type": "markdown",
   "metadata": {},
   "source": [
    "# Perfekte (volkommene) Zahlen"
   ]
  },
  {
   "cell_type": "markdown",
   "metadata": {},
   "source": [
    "## Aufgabe 1\n",
    "\n",
    "Eine perfekte (vollkommene) Zahl ist eine natürliche Zahl, die gleich der Summe aller ihrer (positiven) Teiler, <u>ausgenommen sich selbst</u> ist. Entsprechend ist sie auch eine Zahl, die halb so groß ist wie die Summe aller ihrer positiven Teiler (<u>sie selbst eingeschlossen</u>). Beispielsweise ist $28 = 1 + 2 + 4 + 7 + 14$ eine vollkommene Zahl.\n",
    "\n",
    "\n",
    "Entwickeln Sie einen einen Algorithmus, welcher für eine gegebene Zahl $n$ überprüft, ob sie vollkommen ist. Bearbeiten Sie dabei folgende Aufgabenstellungen:\n",
    "\n",
    "1. Stellen Sie den entwickelten Algorithmus als Programmablaufplan dar. Hinweis: Verwenden Sie die Modulofunktion um die Teiler einer Zahl zu finden.\n",
    "2. Finden Sie die kleinste perfekte Zahl und geben Sie anhand des entwickelten Algorithmus die erforderlichen Berechnungsschritte zur Ermittlung dieser an. Geben Sie dabei auch die Zwischenwerte aller Hilfsvariablen und Zählerwerte der verwendeten Iterationsschleifen an.\n",
    "3. Stellen Sie alternativ eine analytische Formelbeziehung her und verifizieren Sie anschließend Ihr Ergebnis anhand dieser. Ermitteln sie darauf aufbauend alle perfekten Zahlen zwischen 1 und 500. Hinweis: Eine mögliche Formelbeziehung kann den Lösungshinweisen entnommen werden."
   ]
  },
  {
   "cell_type": "markdown",
   "metadata": {},
   "source": [
    "### Lösungshinweise\n",
    "```{toggle}\n",
    "1. Definieren sie zunächst eine Variable $x$ welche die Summe ihrer eigenen Teiler darstellt. In einer Schleife von 1 bis $n$ kann über eine Modulofunktion geprüft werden, ob der Zähler $k$ ein echter Teiler von $n$ ($n \\bmod k = 0$) ist. Wenn dies der Fall ist, wird der Zähler $k$ zu $x$ addiert.\n",
    "2. Durchlaufen Sie den Algorithmus für verschiedene Werte von $n$.\n",
    "3. $n(k) = 2^{k-1}(2^k - 1)$ wenn $2^k - 1$ eine Primzahl ergibt.\n",
    "```"
   ]
  },
  {
   "cell_type": "markdown",
   "metadata": {},
   "source": [
    "### Lösung\n",
    "\n",
    "```{toggle}\n",
    "Zu 1. \n",
    "\n",
    "| ![Beispiel](programm_flow.svg) |\n",
    "| :-: |\n",
    "| Möglicher Programmlaufplan zur Kontrolle, ob eine natürliche Zahl $n$ eine perfekte Zahl ist |\n",
    "\n",
    "Zu 2. Perfekte Zahlen zwischen 1 und 500 : 6, 28, 496\n",
    "\n",
    "Beispiel: $n = 6$\n",
    "\n",
    "Start:\n",
    "\n",
    "$x = 0$ (Variable)\n",
    "\n",
    "$k = 0$ (Zähler)\n",
    "\n",
    "$n = 6$ (Zu untersuchende Zahl)\n",
    "\n",
    "\n",
    "<u>Durchlauf 1<u/>\n",
    "\n",
    "$k = k + 1 = 1$\n",
    "\n",
    "$a=n \\bmod k := 6 \\bmod 1 = 0$\n",
    "\n",
    "$x = x + k := 0 + 1 = 1$\n",
    "\n",
    "$x \\neq n := 1 \\neq 6$\n",
    "\n",
    "<u>Durchlauf 2<u/>\n",
    "\n",
    "$k = 2$\n",
    "\n",
    "$a = 0$\n",
    "\n",
    "$x = 3$\n",
    "\n",
    "$3 \\neq 6$\n",
    "\n",
    "<u>Durchlauf 3<u/>\n",
    "\n",
    "$k = 3$\n",
    "\n",
    "$a = 0$\n",
    "\n",
    "$x = 6$\n",
    "\n",
    "$6 = 6$\n",
    "\n",
    "<u>$6$ ist eine perfekte Zahl!</u>\n",
    "\n",
    "\n",
    "Zu 3.\n",
    "\n",
    "$n(k) = 2^{k-1}(2^k - 1)$\n",
    "\n",
    "$n(2) = 2^{2-1}(2^2 - 1) = 6 = 1 + 2 + 3$\n",
    "\n",
    "$n(3)=2^{3-1}(2^3 - 1) = 28 = 1 + 2 + 4 + 7 + 14$\n",
    "\n",
    "$n(4) = 2^{4-1}(2^4 - 1) = 496 = 1 + 2 + 4 + 8 + 16 + 31 + 62 + 12 + 248$\n",
    "```"
   ]
  },
  {
   "cell_type": "code",
   "execution_count": null,
   "metadata": {},
   "outputs": [],
   "source": []
  }
 ],
 "metadata": {
  "celltoolbar": "Tags",
  "kernelspec": {
   "display_name": "Python 3",
   "language": "python",
   "name": "python3"
  },
  "language_info": {
   "codemirror_mode": {
    "name": "ipython",
    "version": 3
   },
   "file_extension": ".py",
   "mimetype": "text/x-python",
   "name": "python",
   "nbconvert_exporter": "python",
   "pygments_lexer": "ipython3",
   "version": "3.8.5"
  }
 },
 "nbformat": 4,
 "nbformat_minor": 4
}
