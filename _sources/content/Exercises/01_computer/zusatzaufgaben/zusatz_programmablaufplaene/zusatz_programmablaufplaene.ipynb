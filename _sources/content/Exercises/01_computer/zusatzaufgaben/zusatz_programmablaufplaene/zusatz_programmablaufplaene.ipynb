{
 "cells": [
  {
   "cell_type": "markdown",
   "metadata": {
    "tags": [
     "remove_cell"
    ]
   },
   "source": [
    "<div style=\"width: 100%; overflow: hidden;\">\n",
    "    <div style=\"width: 500px; float: left;\"> \n",
    "        <h1>Ingenieurinformatik – Übung</h1>\n",
    "        Lehrstuhl <b>Computational Civil Engineering</b><br>\n",
    "        Kontakt: <a href = \"mailto: cce-inginf@uni-wuppertal.de\">Email senden</a> | Individuelle Kontakte siehe Webseite des Lehrstuhls<br>\n",
    "        Links: \n",
    "        <a href=\"cce.uni-wuppertal.de/inginf\">Vorlesungsskript</a> | \n",
    "        <a href=\"cce.uni-wuppertal.de/\">Webseite des Lehrstuhls</a>\n",
    "    </div>\n",
    "    <div style=\"float:right;\"> \n",
    "        <img src=\"logo_cce_combined.png\" style=\"width:150px;\"/>\n",
    "    </div>\n",
    "</div>"
   ]
  },
  {
   "cell_type": "markdown",
   "metadata": {},
   "source": [
    "# Programmablaufpläne"
   ]
  },
  {
   "cell_type": "markdown",
   "metadata": {},
   "source": [
    "## Aufgabe 1\n",
    "\n",
    "1. Erstellen Sie einen Programmablaufplan, welcher das Minimum bestimmt\n",
    "2. Erstellen Sie einen Programmablaufplan, welcher das Minimum aller positiven Zahlen bestimmt\n",
    "3. Erstelle Sie EINEN Programmablaufplan, welcher sowohl Minimum aller positiven Zahlen als auch Maximum aller negativen Zahlen zurück gibt"
   ]
  },
  {
   "cell_type": "markdown",
   "metadata": {},
   "source": [
    "### Lösung\n",
    "```{toggle}\n",
    "\n",
    "<u>Zu 1.</u>\n",
    "\n",
    "| ![Beispiel](alg_findmin.svg) |\n",
    "| :-: |\n",
    "| Möglicher Programmablaufplan zur Bestimmung des Minumums |\n",
    "\n",
    "<u>Zu 2.</u>\n",
    "\n",
    "\n",
    "| ![Beispiel](alg_findmin_positive.svg) |\n",
    "| :-: |\n",
    "| Möglicher Programmablaufplan zur Bestimmung des Minumums aller positiven Zahlen |\n",
    "\n",
    "<u>Zu 3.</u>\n",
    "\n",
    "| ![Beispiel](alg_find_minpositive_maxnegative.svg) |\n",
    "| :-: |\n",
    "| Möglicher Programmablaufplan zur Bestimmung Minimums aller positiven Zahlen als auch des Maximums aller negativen Zahlen |\n",
    "\n",
    "```"
   ]
  },
  {
   "cell_type": "code",
   "execution_count": null,
   "metadata": {},
   "outputs": [],
   "source": []
  }
 ],
 "metadata": {
  "celltoolbar": "Tags",
  "kernelspec": {
   "display_name": "Python 3",
   "language": "python",
   "name": "python3"
  },
  "language_info": {
   "codemirror_mode": {
    "name": "ipython",
    "version": 3
   },
   "file_extension": ".py",
   "mimetype": "text/x-python",
   "name": "python",
   "nbconvert_exporter": "python",
   "pygments_lexer": "ipython3",
   "version": "3.8.5"
  }
 },
 "nbformat": 4,
 "nbformat_minor": 4
}
