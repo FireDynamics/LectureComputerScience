{
 "cells": [
  {
   "cell_type": "markdown",
   "metadata": {
    "tags": [
     "remove_cell"
    ]
   },
   "source": [
    "<div style=\"width: 100%; overflow: hidden;\">\n",
    "    <div style=\"width: 500px; float: left;\"> \n",
    "        <h1>Ingenieurinformatik – Übung</h1>\n",
    "        Lehrstuhl <b>Computational Civil Engineering</b><br>\n",
    "        Kontakt: <a href = \"mailto: cce-inginf@uni-wuppertal.de\">Email senden</a> | Individuelle Kontakte siehe Webseite des Lehrstuhls<br>\n",
    "        Links: \n",
    "        <a href=\"cce.uni-wuppertal.de/inginf\">Vorlesungsskript</a> | \n",
    "        <a href=\"cce.uni-wuppertal.de/\">Webseite des Lehrstuhls</a>\n",
    "    </div>\n",
    "    <div style=\"float:right;\"> \n",
    "        <img src=\"logo_cce_combined.png\" style=\"width:150px;\"/>\n",
    "    </div>\n",
    "</div>"
   ]
  },
  {
   "cell_type": "markdown",
   "metadata": {},
   "source": [
    "# Intervallschachtelung"
   ]
  },
  {
   "cell_type": "markdown",
   "metadata": {},
   "source": [
    "## Aufgabe 1\n",
    "\n",
    "Gegeben sei eine Funktion  $f(x)=e^{0.5x} + 0.5x$. Finden Sie die Nullstelle auf dem Intervall $[-2,-1]$. Benutzen Sie die gleiche Methode, wie in Übung 1.3."
   ]
  },
  {
   "cell_type": "markdown",
   "metadata": {},
   "source": [
    "### Lösung\n",
    "```{toggle}\n",
    "    1:    a = -2        b = -1        c = -1.5      f(c) = -0.278\n",
    "    2:    a = -1.5      b = -1        c = -1.25     f(c) = -0.09\n",
    "    3:    a = -1.25     b = -1        c = -1.125    f(c) =  0.007\n",
    "    4:    a = -1.25     b = -1.125    c = -1.1875   f(c) = -0.041\n",
    "    5:    a = -1.1875   b = -1.125    c = -1.15625  f(c) = -0.017\n",
    "```"
   ]
  },
  {
   "cell_type": "markdown",
   "metadata": {},
   "source": [
    "## Aufgabe 2\n",
    "\n",
    "1: Finden Sie die Schnittpunkte der zwei folgenden Funktionen: \n",
    "-\t$f(x) = 2 \\, \\sin(x)$\n",
    "-\t$g(x) = \\cos(x) - 0.3$\n",
    "\n",
    "mit Hilfe der Intervallschachtelung auf dem Intervall $[0,\\pi/2]$. Ihre Lösung sollte maximal um $0.1$ von der analytischen Lösung abweichen.\n",
    "\n",
    "2: Überlegen Sie sich, was geschehen würde, wenn Sie den Schnittpunkt zwischen den Funktionen $f(x) =x^3 - x^2$ und $g(x) = 4x-4$ auf dem Intervall $[-3,3]$ bestimmen wollen würden."
   ]
  },
  {
   "cell_type": "markdown",
   "metadata": {},
   "source": [
    "### Lösung\n",
    "```{toggle}\n",
    "1: Um die Schnittpunkte zweier Funktionen zu finden muss die Gleichung $f(x) = g(x)$ gelöst werden, was äquivalent zum Lösen der Gleichung $f(x) - g(x) = 0$ ist. Da sich das Problem nun darauf reduziert, die Nullstellen einer Kurve zu finden, können wir Intervallschachtelung verwenden:\n",
    "\n",
    "    a = 0       b = 1.5707\n",
    "\ta = 0       b = 0.7894\n",
    "\ta = 0       b = 0.3927\n",
    "\ta = 0.1963  b = 0.3927\n",
    "\ta = 0.2945  b = 0.3927\n",
    "\n",
    "2: Das Finden des Schnittpunkts zwischen f(x) und g(x) ist dasselbe wie das Finden der Nullstellen von h(x) = f(x) - g(x). Wenn wir nun die gleiche Methode wie in Übung 1.3 anwenden, ergibt sich folgendes: \n",
    "\n",
    "\ta = -3       b = 0\n",
    "\ta = -3       b = -1.5\n",
    "\ta = -2.25    b = -1.5\n",
    "\ta = -2.25    b = -1.875\n",
    "\ta = -2.0625  b = -1.875\n",
    "\ta = -2.0625  b = -1.9688\n",
    "    \n",
    "Wenn Sie die Gleichung jedoch analytisch lösen, finden Sie 3 Nullstellen: -2,1,2. Die Intervallschachtelung kann maximal eine Nullstelle finden. Sie können sich jedoch nicht sicher sein, ob nicht noch andere Nullstellen auf dem Intervall existieren.\n",
    "```"
   ]
  },
  {
   "cell_type": "code",
   "execution_count": null,
   "metadata": {},
   "outputs": [],
   "source": []
  }
 ],
 "metadata": {
  "celltoolbar": "Tags",
  "kernelspec": {
   "display_name": "Python 3",
   "language": "python",
   "name": "python3"
  },
  "language_info": {
   "codemirror_mode": {
    "name": "ipython",
    "version": 3
   },
   "file_extension": ".py",
   "mimetype": "text/x-python",
   "name": "python",
   "nbconvert_exporter": "python",
   "pygments_lexer": "ipython3",
   "version": "3.7.3"
  }
 },
 "nbformat": 4,
 "nbformat_minor": 4
}
