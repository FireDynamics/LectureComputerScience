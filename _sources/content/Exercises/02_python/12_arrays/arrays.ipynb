{
 "cells": [
  {
   "attachments": {},
   "cell_type": "markdown",
   "metadata": {
    "tags": [
     "remove_cell"
    ]
   },
   "source": [
    "<div style=\"width: 100%; overflow: hidden;\">\n",
    "    <div style=\"width: 500px; float: left;\"> \n",
    "        <h1>Ingenieurinformatik – Übung</h1>\n",
    "        Lehrstuhl <b>Computational Civil Engineering</b><br>\n",
    "        Kontakt: <a href = \"mailto: cce-inginf@uni-wuppertal.de\">Email senden</a> | Individuelle Kontakte siehe Webseite des Lehrstuhls<br>\n",
    "        Links: \n",
    "        <a href=\"cce.uni-wuppertal.de/inginf\">Vorlesungsskript</a> | \n",
    "        <a href=\"cce.uni-wuppertal.de/\">Webseite des Lehrstuhls</a>\n",
    "    </div>\n",
    "    <div style=\"float:right;\"> \n",
    "        <img src=\"logo_cce_combined.png\" style=\"width:150px;\"/>\n",
    "    </div>\n",
    "</div>"
   ]
  },
  {
   "attachments": {},
   "cell_type": "markdown",
   "metadata": {},
   "source": [
    "# NumPy Arrays"
   ]
  },
  {
   "attachments": {},
   "cell_type": "markdown",
   "metadata": {},
   "source": [
    "In dieser Übung sollen die Unterschiede zwischen Listen und NumPy Arrays untersucht werden. Daraus ergibt sich das Verständnis in welchen Situation welches Datenkonstrukt sinnvoll eingesetzt werden kann. Darauf folgend soll das Zugreifen auf ein Array geübt werden. Im letzten Teil wird der Umgang mit Arrays weiter vertieft."
   ]
  },
  {
   "attachments": {},
   "cell_type": "markdown",
   "metadata": {},
   "source": [
    "## Aufgabenteil A - Verständnis, Operatoren\n",
    "1. Erstellen Sie ein NumPy Array mit den Zahlen 0 - 9 nach folgenden Methoden:\n",
    "   - konvertieren Sie eine Liste in ein Array\n",
    "   - konvertieren Sie eine Range in ein Array\n",
    "   - Nutzen Sie die `arange` Funktion vom NumPy-Modul und vergleichen Sie diese mit Range\n",
    "2. Vergleichen Sie folgende Operatoren zwischen Listen und Arrays und ermitteln Sie die Unterschiede:\n",
    "   -  addieren/subtrahieren Sie zwei Listen bzw. Arrays\n",
    "   -  addieren Sie eine Zahl\n",
    "   -  multiplizieren/dividieren Sie mit eine Zahl\n",
    "3. Beantworten Sie folgende Fragen und begründen Sie Ihre Antwort. Überprüfen Sie diese gegebenenfalls.\n",
    "   -  Ist es möglich die Liste `[1, 2.3, True, \"Hallo\"]` in ein Array zu konvertieren?\n",
    "   -  Ist es möglich zwischen Arrays unterschiedlicher Größe die Operatoren `+`, `-`, `*` und `/` anzuwenden?\n",
    "   -  Ist es möglich ein Array zu vergrößern?"
   ]
  },
  {
   "attachments": {},
   "cell_type": "markdown",
   "metadata": {
    "tags": [
     "loesung"
    ]
   },
   "source": [
    "### Lösung"
   ]
  },
  {
   "cell_type": "code",
   "execution_count": 28,
   "metadata": {
    "tags": [
     "hide-cell",
     "loesung"
    ]
   },
   "outputs": [
    {
     "name": "stdout",
     "output_type": "stream",
     "text": [
      "[0 1 2 3 4 5 6 7 8 9]\n",
      "[0 1 2 3 4 5 6 7 8 9]\n",
      "[0 1 2 3 4 5 6 7 8 9]\n"
     ]
    }
   ],
   "source": [
    "import numpy as np\n",
    "\n",
    "array = np.array([0,1,2,3,4,5,6,7,8,9])\n",
    "print(array)\n",
    "array = np.array(range(10))\n",
    "print(array)\n",
    "array = np.arange(10) # Hat die selben Parameter wie range(...)\n",
    "print(array)"
   ]
  },
  {
   "cell_type": "code",
   "execution_count": 29,
   "metadata": {
    "tags": [
     "hide-cell",
     "loesung"
    ]
   },
   "outputs": [
    {
     "name": "stdout",
     "output_type": "stream",
     "text": [
      "Addition von Listen bzw. Arrays:\n",
      "[0, 1, 2, 3, 0, 1, 2, 3]\n",
      "[0 2 4 6]\n",
      "[0 0 0 0]\n",
      "Addition/Subtraktion mit einer Zahl\n",
      "[1 2 3 4]\n",
      "[-1  0  1  2]\n",
      "Multiplikation/Division mit einer Zahl\n",
      "[0, 1, 2, 3, 0, 1, 2, 3]\n",
      "[0 2 4 6]\n",
      "[0.  0.5 1.  1.5]\n"
     ]
    }
   ],
   "source": [
    "import numpy as np\n",
    "\n",
    "print(\"Addition von Listen bzw. Arrays:\")\n",
    "print([0,1,2,3]+[0,1,2,3])\n",
    "# print([0,1,2,3]-[0,1,2,3]) Bei Listen nicht möglich\n",
    "print(np.arange(4)+np.arange(4))\n",
    "print(np.arange(4)-np.arange(4))\n",
    "\n",
    "print(\"Addition/Subtraktion mit einer Zahl\")\n",
    "# print([0,1,2,3]+1) Bei Listen nicht möglich\n",
    "# print([0,1,2,3]-1) Bei Listen nicht möglich\n",
    "print(np.arange(4)+1)\n",
    "print(np.arange(4)-1)\n",
    "\n",
    "print(\"Multiplikation/Division mit einer Zahl\")\n",
    "print([0,1,2,3]*2)\n",
    "# print([0,1,2,3]/1) Bei Listen nicht möglich\n",
    "print(np.arange(4)*2)\n",
    "print(np.arange(4)/2)"
   ]
  },
  {
   "attachments": {},
   "cell_type": "markdown",
   "metadata": {
    "tags": [
     "loesung"
    ]
   },
   "source": [
    ":::{toggle}\n",
    "- Bedingt, ein Array kann nur einen Typ haben, daher werden alle Elemente in `str` umgewandelt.\n",
    "  _Zusatz: Der genaue Typ kann mit dem parameter `dtype` festgelegt werden._\n",
    "- Nein, Arrays müssen für die angegeben Operatoren immer die gleiche Länge haben, da sonst nicht für jeden Index der Operator angewandt werden kann.\n",
    "- Nein, ein Array hat immer eine fixe Größe. Es ist jedoch möglich ein neues Array zu erstellen, mit dem hinzugefügten Element.  \n",
    "\n",
    ":::"
   ]
  },
  {
   "attachments": {},
   "cell_type": "markdown",
   "metadata": {},
   "source": [
    "## Aufgabenteil B - Verständnis, mehrdimensionale Arrays\n",
    "So wie Listen, können auch Arrays mehrdimensional sein. Solch ein Array kann wie folgt definiert werden."
   ]
  },
  {
   "cell_type": "code",
   "execution_count": 26,
   "metadata": {},
   "outputs": [],
   "source": [
    "array = np.array([\n",
    "    [ 1, 2, 3, 4],\n",
    "    [ 5, 6, 7, 8],\n",
    "    [ 9,10,11,12],\n",
    "    [13,14,15,16],\n",
    "])"
   ]
  },
  {
   "attachments": {},
   "cell_type": "markdown",
   "metadata": {},
   "source": [
    "1. Ermitteln Sie aus dem Array:\n",
    "   - die Größe (size), also die gesamte Anzahl an Elementen,\n",
    "   - die Form (shape), also wie viele Einträge pro Axe,\n",
    "   - und die Dimension, also wie viele Axen vorhanden sind.\n",
    "2. Ähnlich wie bei Listen mit `[index]` für eine einzelne Stelle, `[start:ende]` für einen Teil und `[:]` für die gesamte Liste, kann auch ein Array modifiziert werden. Dabei wird durch ein `,` auf die nächste Axe zugegriffen.  \n",
    "   Greifen Sie auf das Array zu, sodass ...\n",
    "   - 1 zurückgegeben wird.\n",
    "   - die 2. Reihe zurück gegeben wird.\n",
    "   - die 3. Spalte zurück gegeben wird.\n",
    "   - die 4 mittleren Werte zurückgegeben werden."
   ]
  },
  {
   "attachments": {},
   "cell_type": "markdown",
   "metadata": {
    "tags": [
     "loesung"
    ]
   },
   "source": [
    "### Lösung"
   ]
  },
  {
   "cell_type": "code",
   "execution_count": 25,
   "metadata": {
    "tags": [
     "hide-cell",
     "loesung"
    ]
   },
   "outputs": [
    {
     "name": "stdout",
     "output_type": "stream",
     "text": [
      "Größe: 16\n",
      "Form: (4, 4)\n",
      "Dimension: 2\n"
     ]
    }
   ],
   "source": [
    "print(\"Größe:\", array.size)\n",
    "print(\"Form:\", array.shape)\n",
    "print(\"Dimension:\", len(array.shape))\n"
   ]
  },
  {
   "cell_type": "code",
   "execution_count": 27,
   "metadata": {
    "tags": [
     "hide-cell",
     "loesung"
    ]
   },
   "outputs": [
    {
     "name": "stdout",
     "output_type": "stream",
     "text": [
      "1\n",
      "[5 6 7 8]\n",
      "[ 3  7 11 15]\n",
      "[[ 6  7]\n",
      " [10 11]]\n"
     ]
    }
   ],
   "source": [
    "print(array[0,0])\n",
    "print(array[1])\n",
    "print(array[:,2])\n",
    "print(array[1:3,1:3])"
   ]
  },
  {
   "attachments": {},
   "cell_type": "markdown",
   "metadata": {},
   "source": [
    "## Aufgabenteil C - Laden von Daten aus Dateien\n",
    "Mit der Funktion `loadtxt` vom Modul NumPy ist es möglich Daten einfach aus einer Textdatei zu laden. Lesen Sie sich die [Dokumentation](https://numpy.org/doc/stable/reference/generated/numpy.loadtxt.html#numpy.loadtxt) zu der Funktion durch und laden Sie die Daten der Datei, die Sie {download}`hier <./hochhaeuser.csv>` downloaden können. \n",
    "\n",
    "Die Datei enthält Daten bezüglich der gebauten Hochhäuser in Berlin, mit ihrer Gebäudehöhe, Vollgeschossanzahl und Baubeginn. Laden Sie die Daten und plotten Sie ..\n",
    "1. die Gebäudehöhe in Abhängigkeit vom Baubeginn.\n",
    "2. das Verhältnis aus Vollgeschosszahl und Gebäudehöhe in Abhängigkeit vom Baubeginn."
   ]
  },
  {
   "attachments": {},
   "cell_type": "markdown",
   "metadata": {
    "tags": [
     "loesung"
    ]
   },
   "source": [
    "### Lösung"
   ]
  },
  {
   "cell_type": "code",
   "execution_count": 15,
   "metadata": {
    "tags": [
     "hide-cell",
     "loesung"
    ]
   },
   "outputs": [
    {
     "data": {
      "image/png": "[encoded data removed]",
      "text/plain": [
       "<Figure size 640x480 with 1 Axes>"
      ]
     },
     "metadata": {},
     "output_type": "display_data"
    }
   ],
   "source": [
    "import numpy as np\n",
    "import matplotlib.pyplot as plt\n",
    "\n",
    "daten = np.loadtxt(\"hochhaeuser.csv\", skiprows=1, delimiter=\";\")\n",
    "hoehe = daten[:,0]\n",
    "geschoss = daten[:,1]\n",
    "jahr = daten[:,2]\n",
    "\n",
    "plt.scatter(jahr, hoehe)\n",
    "plt.title(\"Bauhöhe Hochhäuser Berlin\")\n",
    "plt.xlabel(\"Baubeginn\")\n",
    "plt.ylabel(\"Bauhöhe [m]\")\n",
    "plt.show()\n"
   ]
  },
  {
   "cell_type": "code",
   "execution_count": 14,
   "metadata": {
    "tags": [
     "hide-cell",
     "loesung"
    ]
   },
   "outputs": [
    {
     "data": {
      "image/png": "[encoded data removed]",
      "text/plain": [
       "<Figure size 640x480 with 1 Axes>"
      ]
     },
     "metadata": {},
     "output_type": "display_data"
    }
   ],
   "source": [
    "plt.scatter(jahr, geschoss/hoehe)\n",
    "plt.title(\"Geschosseffizienz Hochhäuser Berlin\")\n",
    "plt.xlabel(\"Baubeginn\")\n",
    "plt.ylabel(\"Geschosseffizienz [Geschoss/m]\")\n",
    "plt.show()"
   ]
  }
 ],
 "metadata": {
  "celltoolbar": "Tags",
  "kernelspec": {
   "display_name": "Python 3",
   "language": "python",
   "name": "python3"
  },
  "language_info": {
   "codemirror_mode": {
    "name": "ipython",
    "version": 3
   },
   "file_extension": ".py",
   "mimetype": "text/x-python",
   "name": "python",
   "nbconvert_exporter": "python",
   "pygments_lexer": "ipython3",
   "version": "3.11.3"
  }
 },
 "nbformat": 4,
 "nbformat_minor": 4
}
