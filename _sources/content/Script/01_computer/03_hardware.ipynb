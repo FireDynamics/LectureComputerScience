{
 "cells": [
  {
   "cell_type": "markdown",
   "metadata": {},
   "source": [
    "# Hardware"
   ]
  },
  {
   "cell_type": "markdown",
   "metadata": {},
   "source": [
    "Ein Computer ist ein Gerät, das mittels programmierbarer Rechenvorschriften Daten digital verarbeitet. In unserem Alltag sind Computer in verschiedensten Arten und Formen überall vertreten. Mittels der digitalen Darstellung von Informationen und Verwendung von Algorithmen, sind Computer in der Lage komplexe Probleme zu lösen, welche von Menschen nicht in praktikabler Zeit zu bewältigen wären. "
   ]
  },
  {
   "cell_type": "markdown",
   "metadata": {},
   "source": [
    ":::{figure-md} fig-samsung-galaxy\n",
    "\n",
    "<img src=\"https://upload.wikimedia.org/wikipedia/commons/0/03/Samsung_Galaxy_S7_and_S7_Edge.png\" width=\"90%\">\n",
    "\n",
    "Samsung Galaxy S7 and S7 Edge, Quelle: [GadgetsGuy (collage by GalaxyOptimus), CC BY 3.0](https://upload.wikimedia.org/wikipedia/commons/0/03/Samsung_Galaxy_S7_and_S7_Edge.png)\n",
    ":::\n",
    "\n",
    ":::{figure-md} fig-thinkpad\n",
    "\n",
    "<img src=\"https://upload.wikimedia.org/wikipedia/commons/e/e7/Lenovo_ThinkPad_T440.jpg\" width=\"90%\">\n",
    "\n",
    "Lenovo ThinkPad T44, Quelle: [Jojhnjoy, T440, CC BY-SA 3.0](https://upload.wikimedia.org/wikipedia/commons/e/e7/Lenovo_ThinkPad_T440.jpg)\n",
    ":::\n",
    "\n",
    ":::{figure-md} fig-jureca-2\n",
    "\n",
    "<img src=\"https://www.fz-juelich.de/en/ias/jsc/systems/supercomputers/jureca/jureca-dc.jpeg/@@images/image\" width=\"90%\">\n",
    "\n",
    "Supercomputer JURECA, Quelle [Forschungszentrum Jülich](https://www.fz-juelich.de/en/ias/jsc/systems/supercomputers/jureca/jureca-dc.jpeg/@@images/image)\n",
    ":::"
   ]
  },
  {
   "cell_type": "markdown",
   "metadata": {},
   "source": [
    "Dieses Kapitel liefert eine Übersicht über die Geschichte der analogen und digitalen Computer und der Personen dahinter. Es werden einfache elektronische Bauteile präsentiert und die generelle Funktionsweise eines Computers erläutert."
   ]
  }
 ],
 "metadata": {
  "kernelspec": {
   "display_name": "Python 3 (ipykernel)",
   "language": "python",
   "name": "python3"
  },
  "language_info": {
   "codemirror_mode": {
    "name": "ipython",
    "version": 3
   },
   "file_extension": ".py",
   "mimetype": "text/x-python",
   "name": "python",
   "nbconvert_exporter": "python",
   "pygments_lexer": "ipython3",
   "version": "3.10.10"
  }
 },
 "nbformat": 4,
 "nbformat_minor": 4
}
